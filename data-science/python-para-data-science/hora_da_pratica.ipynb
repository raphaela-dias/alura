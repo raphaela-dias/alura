{
  "nbformat": 4,
  "nbformat_minor": 0,
  "metadata": {
    "colab": {
      "provenance": []
    },
    "kernelspec": {
      "name": "python3",
      "display_name": "Python 3"
    },
    "language_info": {
      "name": "python"
    }
  },
  "cells": [
    {
      "cell_type": "markdown",
      "source": [
        "# Sobre o notebook\n",
        "\n",
        "A \"hora da prática\" é uma atividade do curso de Python para Data Science da Alura que contém diversos desafios envolvendo os aprendizados de cada aula.\n",
        "\n",
        "O notebook \"hora da pratica\" é um notebook construído com espaço para as células dos desafios propostos no curso, com ele você tem espaço para construir e executar suas soluções"
      ],
      "metadata": {
        "id": "_kwAaQ36gLQ1"
      }
    },
    {
      "cell_type": "markdown",
      "source": [
        "## Aula 1 - Introdução ao Python"
      ],
      "metadata": {
        "id": "Mc-KN0dA0Z83"
      }
    },
    {
      "cell_type": "markdown",
      "source": [
        "### Questão 1\n",
        "\n",
        "Imprima a frase `Escola de Dados da Alura!`"
      ],
      "metadata": {
        "id": "l5eLWf0W0ikn"
      }
    },
    {
      "cell_type": "code",
      "source": [
        "print(\"Escola de Dados da Alura!\")"
      ],
      "metadata": {
        "id": "5pllxJ0h0-yA",
        "colab": {
          "base_uri": "https://localhost:8080/"
        },
        "outputId": "5eb44aff-5ced-4524-d752-3e48ebd3dfa7"
      },
      "execution_count": null,
      "outputs": [
        {
          "output_type": "stream",
          "name": "stdout",
          "text": [
            "Escola de Dados da Alura!\n"
          ]
        }
      ]
    },
    {
      "cell_type": "markdown",
      "source": [
        "### Questão 2\n",
        "Imprima na tela seu nome e seu sobrenome seguindo a estrutura abaixo:\n",
        "```\n",
        "Nome: [seu nome]\n",
        "Sobrenome: [seu sobrenome]\n",
        "```\n"
      ],
      "metadata": {
        "id": "tQdX90Ue03c7"
      }
    },
    {
      "cell_type": "code",
      "source": [
        "print(\"Nome: Mac\")\n",
        "print(\"Sobrenome: and Cheese\")"
      ],
      "metadata": {
        "id": "RVw5iKn20_Ps",
        "colab": {
          "base_uri": "https://localhost:8080/"
        },
        "outputId": "493c13db-66d8-4a5c-d196-1070e7e31ffd"
      },
      "execution_count": null,
      "outputs": [
        {
          "output_type": "stream",
          "name": "stdout",
          "text": [
            "Nome: Mac\n",
            "Sobrenome: and Cheese\n"
          ]
        }
      ]
    },
    {
      "cell_type": "markdown",
      "source": [
        "### Questão 3\n",
        "Imprima o seu primeiro nome letra a letra. Por exemplo, nome é Mirla, então eu obtenho a seguinte saída:\n",
        "```\n",
        "M\n",
        "I\n",
        "R\n",
        "L\n",
        "A\n",
        "```\n"
      ],
      "metadata": {
        "id": "gfg-aiip03vC"
      }
    },
    {
      "cell_type": "code",
      "source": [
        "print(\"M\")\n",
        "print(\"A\")\n",
        "print(\"C\")"
      ],
      "metadata": {
        "id": "v5bkrgf60_qx",
        "colab": {
          "base_uri": "https://localhost:8080/"
        },
        "outputId": "ec5d269f-da76-4157-f4c2-4f97e49f7da9"
      },
      "execution_count": null,
      "outputs": [
        {
          "output_type": "stream",
          "name": "stdout",
          "text": [
            "M\n",
            "A\n",
            "C\n"
          ]
        }
      ]
    },
    {
      "cell_type": "markdown",
      "source": [
        "### Questão 4\n",
        "Imprima o dia do seu nascimento em formato `dia mês ano`. Os valores de dia e ano não podem estar entre aspas. O formato deve estar como no exemplo, supondo uma data de aniversário dia 28 de fevereiro de 2003:\n",
        "```\n",
        "28 fevereiro 2003\n",
        "```"
      ],
      "metadata": {
        "id": "oadrJbl704MM"
      }
    },
    {
      "cell_type": "code",
      "source": [
        "print(17, \"Agosto\", 1993)"
      ],
      "metadata": {
        "id": "cx0KSsrq1ALD",
        "colab": {
          "base_uri": "https://localhost:8080/"
        },
        "outputId": "b9bdc683-39ac-415c-c54d-60732098cdb0"
      },
      "execution_count": null,
      "outputs": [
        {
          "output_type": "stream",
          "name": "stdout",
          "text": [
            "17 Agosto 1993\n"
          ]
        }
      ]
    },
    {
      "cell_type": "markdown",
      "source": [
        "### Questão 5\n",
        "Imprima em um único print o atual ano que você está fazendo esse curso, o valor do ano deve ser um dado numérico. A saída do print deve ser a seguinte:\n",
        "```\n",
        "Ano atual: [ano]\n",
        "```\n"
      ],
      "metadata": {
        "id": "3RgyMaan04TD"
      }
    },
    {
      "cell_type": "code",
      "execution_count": null,
      "metadata": {
        "id": "UN77EfQ2d36Y",
        "colab": {
          "base_uri": "https://localhost:8080/"
        },
        "outputId": "3c7e0450-b186-4fe2-e60c-b50ac0a73e62"
      },
      "outputs": [
        {
          "output_type": "stream",
          "name": "stdout",
          "text": [
            "Ano atual: [ 2023 ]\n"
          ]
        }
      ],
      "source": [
        "print(\"Ano atual: [\", 2023, \"]\")"
      ]
    },
    {
      "cell_type": "markdown",
      "source": [
        "## Aula 2 - Manipulando dados no Python"
      ],
      "metadata": {
        "id": "D9e3FqhO1S3X"
      }
    },
    {
      "cell_type": "markdown",
      "source": [
        "### Coleta e amostragem de dados"
      ],
      "metadata": {
        "id": "n6o7C1Ze2cRe"
      }
    },
    {
      "cell_type": "markdown",
      "source": [
        "#### Questão 1\n",
        "Crie um programa que solicite à pessoa usuária digitar seu nome, e imprima “Olá, [nome]!”."
      ],
      "metadata": {
        "id": "sRneWag9PV5Q"
      }
    },
    {
      "cell_type": "code",
      "source": [
        "nome = input(\"Digite o seu nome: \")\n",
        "print(f\"Olá, {nome}!\")"
      ],
      "metadata": {
        "id": "dbX1fKqy2HnE",
        "colab": {
          "base_uri": "https://localhost:8080/"
        },
        "outputId": "d92a7b8e-9610-422f-e7fb-56785b405b1f"
      },
      "execution_count": null,
      "outputs": [
        {
          "output_type": "stream",
          "name": "stdout",
          "text": [
            "Digite o seu nome: Mac\n",
            "Olá, Mac!\n"
          ]
        }
      ]
    },
    {
      "cell_type": "markdown",
      "source": [
        "#### Questão 2\n",
        "Crie um programa que solicite à pessoa usuária digitar seu nome e idade, e imprima “Olá, [nome], você tem [idade] anos.”."
      ],
      "metadata": {
        "id": "BJ1SznEp70d5"
      }
    },
    {
      "cell_type": "code",
      "source": [
        "nome = input(\"Digite o seu nome: \")\n",
        "idade = input(\"Digite a sua idade: \")\n",
        "print(f\"Olá, {nome}, você tem {idade} anos.\")"
      ],
      "metadata": {
        "id": "jKz-0Sq8PFkp",
        "colab": {
          "base_uri": "https://localhost:8080/"
        },
        "outputId": "9507518e-db8e-42fe-b411-7b2b200fc788"
      },
      "execution_count": null,
      "outputs": [
        {
          "output_type": "stream",
          "name": "stdout",
          "text": [
            "Digite o seu nome: Mac\n",
            "Digite a sua idade: 30\n",
            "Olá, Mac, você tem 30 anos.\n"
          ]
        }
      ]
    },
    {
      "cell_type": "markdown",
      "source": [
        "#### Questão 3\n",
        "Crie um programa que solicite à pessoa usuária digitar seu nome, idade e altura em metros, e imprima “Olá, [nome], você tem [idade] anos e mede [altura] metros!”."
      ],
      "metadata": {
        "id": "2T0jNYZt70aa"
      }
    },
    {
      "cell_type": "code",
      "source": [
        "nome = input(\"Digite o seu nome: \")\n",
        "idade = int(input(\"Digite a sua idade: \"))\n",
        "altura = float(input(\"Digite a sua altura: \"))\n",
        "print(f\"Olá, {nome}, você tem {idade} anos e mede {altura} metros!\")"
      ],
      "metadata": {
        "id": "pI4kHNzTPIXh",
        "colab": {
          "base_uri": "https://localhost:8080/"
        },
        "outputId": "f1c05e7c-753b-4fb2-ffb4-066b5aba8a51"
      },
      "execution_count": null,
      "outputs": [
        {
          "output_type": "stream",
          "name": "stdout",
          "text": [
            "Digite o seu nome: Mac\n",
            "Digite a sua idade: 30\n",
            "Digite a sua altura: 1.53\n",
            "Olá, Mac, você tem 30 anos e mede 1.53 metros!\n"
          ]
        }
      ]
    },
    {
      "cell_type": "markdown",
      "source": [
        "### Calculadora com operadores"
      ],
      "metadata": {
        "id": "mEBFwKkC70KP"
      }
    },
    {
      "cell_type": "markdown",
      "source": [
        "#### Questão 1\n",
        "\n",
        "Crie um programa que solicite dois valores numéricos à pessoa usuária e imprima a soma dos dois valores."
      ],
      "metadata": {
        "id": "H-IV1oAPPSqK"
      }
    },
    {
      "cell_type": "code",
      "source": [
        "num1 = float(input(\"Digite o primeiro número: \"))\n",
        "num2 = float(input(\"Digite o segundo número: \"))\n",
        "print(num1 + num2)"
      ],
      "metadata": {
        "id": "Zb0W84sy8rnp",
        "colab": {
          "base_uri": "https://localhost:8080/"
        },
        "outputId": "1a9af053-f46f-440b-be8f-16a7b4bd4a46"
      },
      "execution_count": null,
      "outputs": [
        {
          "output_type": "stream",
          "name": "stdout",
          "text": [
            "Digite o primeiro número: 5\n",
            "Digite o segundo número: 3\n",
            "8.0\n"
          ]
        }
      ]
    },
    {
      "cell_type": "markdown",
      "source": [
        "#### Questão 2\n",
        "Crie um programa que solicite três valores numéricos à pessoa usuária e imprima a soma dos três valores."
      ],
      "metadata": {
        "id": "LUoi2MOu70Em"
      }
    },
    {
      "cell_type": "code",
      "source": [
        "num1 = float(input(\"Digite o primeiro número: \"))\n",
        "num2 = float(input(\"Digite o segundo número: \"))\n",
        "num3 = float(input(\"Digite o terceiro número: \"))\n",
        "print(num1 + num2 + num3)"
      ],
      "metadata": {
        "id": "4FYjWyBS8rDm",
        "colab": {
          "base_uri": "https://localhost:8080/"
        },
        "outputId": "1def549a-0f6f-4773-b640-1eea865724fe"
      },
      "execution_count": null,
      "outputs": [
        {
          "output_type": "stream",
          "name": "stdout",
          "text": [
            "Digite o primeiro número: 5\n",
            "Digite o segundo número: 3\n",
            "Digite o terceiro número: 2\n",
            "10.0\n"
          ]
        }
      ]
    },
    {
      "cell_type": "markdown",
      "source": [
        "#### Questão 3\n",
        "Crie um programa que solicite dois valores numéricos à pessoa usuária e imprima a subtração do primeiro pelo o segundo valor."
      ],
      "metadata": {
        "id": "lezGctF07z8i"
      }
    },
    {
      "cell_type": "code",
      "source": [
        "num1 = float(input(\"Digite o primeiro número: \"))\n",
        "num2 = float(input(\"Digite o segundo número: \"))\n",
        "print(num1 - num2)"
      ],
      "metadata": {
        "id": "k0GE1z4w8p3J",
        "colab": {
          "base_uri": "https://localhost:8080/"
        },
        "outputId": "c694939b-7786-4e4f-e5a0-0dfa6178dd95"
      },
      "execution_count": null,
      "outputs": [
        {
          "output_type": "stream",
          "name": "stdout",
          "text": [
            "Digite o primeiro número: 10\n",
            "Digite o segundo número: 8\n",
            "2.0\n"
          ]
        }
      ]
    },
    {
      "cell_type": "markdown",
      "source": [
        "#### Questão 4\n",
        "\n",
        "Crie um programa que solicite dois valores numéricos à pessoa usuária e imprima a multiplicação dos dois valores.\n"
      ],
      "metadata": {
        "id": "wwMP-dPU7zxW"
      }
    },
    {
      "cell_type": "code",
      "source": [
        "num1 = float(input(\"Digite o primeiro número: \"))\n",
        "num2 = float(input(\"Digite o segundo número: \"))\n",
        "print(num1 * num2)"
      ],
      "metadata": {
        "id": "GzFCVHfp8peZ",
        "colab": {
          "base_uri": "https://localhost:8080/"
        },
        "outputId": "686d67d1-4d93-476e-ccf7-8c1893548c5a"
      },
      "execution_count": null,
      "outputs": [
        {
          "output_type": "stream",
          "name": "stdout",
          "text": [
            "Digite o primeiro número: 5\n",
            "Digite o segundo número: 3\n",
            "15.0\n"
          ]
        }
      ]
    },
    {
      "cell_type": "markdown",
      "source": [
        "#### Questão 5\n",
        "\n",
        "Crie um programa que solicite dois valores numéricos, um numerador e um denominador, e realize a divisão entre os dois valores. Deixe claro que o valor do denominador não pode ser `0`.\n"
      ],
      "metadata": {
        "id": "9kxyHxUo7zRD"
      }
    },
    {
      "cell_type": "code",
      "source": [
        "num1 = float(input(\"Digite o valor do numerador: \"))\n",
        "num2 = float(input(\"Digite o valor do denominador\\n(lembrando que este não pode ser 0):\"))\n",
        "print(num1 / num2)"
      ],
      "metadata": {
        "id": "ytJ8l5KH8ozc",
        "colab": {
          "base_uri": "https://localhost:8080/"
        },
        "outputId": "5838e115-dbd8-4768-bb4e-2804ccb21c87"
      },
      "execution_count": null,
      "outputs": [
        {
          "output_type": "stream",
          "name": "stdout",
          "text": [
            "Digite o valor do numerador: 10\n",
            "Digite o valor do denominador\n",
            "(lembrando que este não pode ser 0):2\n",
            "5.0\n"
          ]
        }
      ]
    },
    {
      "cell_type": "markdown",
      "source": [
        "#### Questão 6\n",
        "\n",
        "Crie um programa que solicite dois valores numéricos, um operador e uma potência, e realize a exponenciação entre esses dois valores.\n"
      ],
      "metadata": {
        "id": "zkUSBTQq8Hxt"
      }
    },
    {
      "cell_type": "code",
      "source": [
        "num1 = float(input(\"Digite o valor do operador: \"))\n",
        "num2 = float(input(\"Digite o valor da potência: \"))\n",
        "print(num1 ** num2)"
      ],
      "metadata": {
        "id": "RPj36jq08oZp",
        "colab": {
          "base_uri": "https://localhost:8080/"
        },
        "outputId": "4335c949-2164-4a63-c731-eebcec1457f5"
      },
      "execution_count": null,
      "outputs": [
        {
          "output_type": "stream",
          "name": "stdout",
          "text": [
            "Digite o valor do operador: 2\n",
            "Digite o valor da potência: 3\n",
            "8.0\n"
          ]
        }
      ]
    },
    {
      "cell_type": "markdown",
      "source": [
        "#### Questão 7\n",
        "Crie um programa que solicite dois valores numéricos, um numerador e um denominador e realize a divisão inteira entre os dois valores. Deixe claro que o valor do denominador não pode ser `0`."
      ],
      "metadata": {
        "id": "yiunIusZ8Huj"
      }
    },
    {
      "cell_type": "code",
      "source": [
        "num1 = float(input(\"Digite o valor do numerador: \"))\n",
        "num2 = float(input(\"Digite o valor do denominador\\n(Lembrando que o denominador não pode ser 0): \"))\n",
        "print(num1 // num2)"
      ],
      "metadata": {
        "id": "UHK8xITf8oCg",
        "colab": {
          "base_uri": "https://localhost:8080/"
        },
        "outputId": "ee876957-4f5d-4df6-a11f-4ec703aee0eb"
      },
      "execution_count": null,
      "outputs": [
        {
          "output_type": "stream",
          "name": "stdout",
          "text": [
            "Digite o valor do numerador: 5\n",
            "Digite o valor do denominador\n",
            "(Lembrando que o denominador não pode ser 0): 2\n",
            "2.0\n"
          ]
        }
      ]
    },
    {
      "cell_type": "markdown",
      "source": [
        "#### Questão 8\n",
        "\n",
        "Crie um programa que solicite dois valores numéricos, um numerador e um denominador, e retorne o resto da divisão entre os dois valores. Deixe claro que o valor do denominador não pode ser `0`."
      ],
      "metadata": {
        "id": "z_D_JiLX8Hra"
      }
    },
    {
      "cell_type": "code",
      "source": [
        "num1 = float(input(\"Digite o valor do numerador: \"))\n",
        "num2 = float(input(\"Digite o valor do denominador\\n(Lembrando que o denominador não pode ser 0): \"))\n",
        "print(num1 % num2)"
      ],
      "metadata": {
        "id": "EWGJeukO8nqx",
        "colab": {
          "base_uri": "https://localhost:8080/"
        },
        "outputId": "6aa573c9-f970-4578-8726-d9995560ed35"
      },
      "execution_count": null,
      "outputs": [
        {
          "output_type": "stream",
          "name": "stdout",
          "text": [
            "Digite o valor do numerador: 5\n",
            "Digite o valor do denominador\n",
            "(Lembrando que o denominador não pode ser 0): 2\n",
            "1.0\n"
          ]
        }
      ]
    },
    {
      "cell_type": "markdown",
      "source": [
        "#### Questão 9\n",
        "\n",
        "Crie um código que solicita 3 notas de um estudante e imprima a média das notas."
      ],
      "metadata": {
        "id": "RDRajNkU8N8N"
      }
    },
    {
      "cell_type": "code",
      "source": [
        "nota1 = float(input(\"Digite o valor da primeira nota: \"))\n",
        "nota2 = float(input(\"Digite o valor da segunda nota: \"))\n",
        "nota3 = float(input(\"Digite o valor da terceira nota: \"))\n",
        "print((nota1 + nota2 + nota3) / 3)"
      ],
      "metadata": {
        "id": "H6F4Ojzt8nSR",
        "colab": {
          "base_uri": "https://localhost:8080/"
        },
        "outputId": "f5c08d21-3cdb-4705-dd19-7a5461788bf3"
      },
      "execution_count": null,
      "outputs": [
        {
          "output_type": "stream",
          "name": "stdout",
          "text": [
            "Digite o valor da primeira nota: 2\n",
            "Digite o valor da segunda nota: 4\n",
            "Digite o valor da terceira nota: 6\n",
            "4.0\n"
          ]
        }
      ]
    },
    {
      "cell_type": "markdown",
      "source": [
        "#### Questão 10\n",
        "\n",
        "Crie um código que calcule e imprima a média ponderada dos números 5, 12, 20 e 15 com pesos respectivamente iguais a 1, 2, 3 e 4."
      ],
      "metadata": {
        "id": "d7fjkne58N21"
      }
    },
    {
      "cell_type": "code",
      "source": [
        "media_ponderada = (5 * 1 + 12 * 2 + 20 * 3 + 15 * 4) / (1 + 2 + 3 + 4)\n",
        "print(media_ponderada)"
      ],
      "metadata": {
        "id": "fwjoHlV48mkv",
        "colab": {
          "base_uri": "https://localhost:8080/"
        },
        "outputId": "1190efb8-ac19-42f7-b8b2-e17764606b5f"
      },
      "execution_count": null,
      "outputs": [
        {
          "output_type": "stream",
          "name": "stdout",
          "text": [
            "14.9\n"
          ]
        }
      ]
    },
    {
      "cell_type": "markdown",
      "source": [
        "### Editando textos"
      ],
      "metadata": {
        "id": "GNmbX1OU8N0V"
      }
    },
    {
      "cell_type": "markdown",
      "source": [
        "#### Questão 1\n",
        "\n",
        "Crie uma variável chamada “`frase`” e atribua a ela uma string de sua escolha. Em seguida, imprima a frase na tela."
      ],
      "metadata": {
        "id": "6wZ85mCsRCV0"
      }
    },
    {
      "cell_type": "code",
      "source": [
        "frase = \"Henlo Fren\"\n",
        "frase"
      ],
      "metadata": {
        "id": "eRqr_gh-8mFy",
        "colab": {
          "base_uri": "https://localhost:8080/",
          "height": 35
        },
        "outputId": "154524d4-6655-4aa6-b353-f64627dec2ec"
      },
      "execution_count": null,
      "outputs": [
        {
          "output_type": "execute_result",
          "data": {
            "text/plain": [
              "'Henlo Fren'"
            ],
            "application/vnd.google.colaboratory.intrinsic+json": {
              "type": "string"
            }
          },
          "metadata": {},
          "execution_count": 6
        }
      ]
    },
    {
      "cell_type": "markdown",
      "source": [
        "#### Questão 2\n",
        "Crie um código que solicite uma frase e depois imprima a frase na tela."
      ],
      "metadata": {
        "id": "Aac17z-18Nwv"
      }
    },
    {
      "cell_type": "code",
      "source": [
        "frase = input(\"Digite uma frase: \")\n",
        "frase"
      ],
      "metadata": {
        "id": "8zfE2hh98lb0",
        "colab": {
          "base_uri": "https://localhost:8080/",
          "height": 53
        },
        "outputId": "f0e20eec-209d-4d94-dd4a-0b733403ccf4"
      },
      "execution_count": null,
      "outputs": [
        {
          "name": "stdout",
          "output_type": "stream",
          "text": [
            "Digite uma frase: Henlo Fren\n"
          ]
        },
        {
          "output_type": "execute_result",
          "data": {
            "text/plain": [
              "'Henlo Fren'"
            ],
            "application/vnd.google.colaboratory.intrinsic+json": {
              "type": "string"
            }
          },
          "metadata": {},
          "execution_count": 8
        }
      ]
    },
    {
      "cell_type": "markdown",
      "source": [
        "#### Questão 3\n",
        "\n",
        "Crie um código que solicite uma frase à pessoa usuária e imprima a mesma frase digitada mas com todas as letras maiúsculas."
      ],
      "metadata": {
        "id": "DXVzqpN58Ntr"
      }
    },
    {
      "cell_type": "code",
      "source": [
        "frase = input(\"Digite uma frase: \")\n",
        "print(frase.upper())"
      ],
      "metadata": {
        "id": "d0VzoYP68k-I",
        "colab": {
          "base_uri": "https://localhost:8080/"
        },
        "outputId": "6f7e9fbc-9528-44b5-e3f7-37426fcd1abc"
      },
      "execution_count": null,
      "outputs": [
        {
          "output_type": "stream",
          "name": "stdout",
          "text": [
            "Digite uma frase: henlo fren\n",
            "HENLO FREN\n"
          ]
        }
      ]
    },
    {
      "cell_type": "markdown",
      "source": [
        "#### Questão 4\n",
        "\n",
        "Crie um código que solicite uma frase à pessoa usuária e imprima a mesma frase digitada mas com todas as letras minúsculas."
      ],
      "metadata": {
        "id": "I12VeNPK8Nqb"
      }
    },
    {
      "cell_type": "code",
      "source": [
        "frase = input(\"Digite uma frase: \")\n",
        "print(frase.lower())"
      ],
      "metadata": {
        "id": "KD8rNy2K8kox",
        "colab": {
          "base_uri": "https://localhost:8080/"
        },
        "outputId": "fdbf2164-0cbd-4d1b-fc44-6e13c6f65c15"
      },
      "execution_count": null,
      "outputs": [
        {
          "output_type": "stream",
          "name": "stdout",
          "text": [
            "Digite uma frase: HENLO FREN\n",
            "henlo fren\n"
          ]
        }
      ]
    },
    {
      "cell_type": "markdown",
      "source": [
        "#### Questão 5\n",
        "\n",
        "Crie uma variável chamada “`frase`” e atribua a ela uma string de sua escolha. Em seguida, imprima a frase sem espaços em branco no início e no fim."
      ],
      "metadata": {
        "id": "cRqngSE48Nog"
      }
    },
    {
      "cell_type": "code",
      "source": [
        "frase = \"              Digite uma frase:         \"\n",
        "print(frase.strip())"
      ],
      "metadata": {
        "id": "aSCpdF-o8kBs",
        "colab": {
          "base_uri": "https://localhost:8080/"
        },
        "outputId": "b934dfbf-ca41-421c-82cb-8ac4bc635ff7"
      },
      "execution_count": null,
      "outputs": [
        {
          "output_type": "stream",
          "name": "stdout",
          "text": [
            "Digite uma frase:\n"
          ]
        }
      ]
    },
    {
      "cell_type": "markdown",
      "source": [
        "#### Questão 6\n",
        "\n",
        "Crie um código que solicite uma frase à pessoa usuária e imprima a mesma frase sem espaços em branco no início e no fim."
      ],
      "metadata": {
        "id": "murIazpQ8Nkv"
      }
    },
    {
      "cell_type": "code",
      "source": [
        "frase = input(\"Digite uma frase: \")\n",
        "print(frase.strip())"
      ],
      "metadata": {
        "id": "tHunjwuG8jNq",
        "colab": {
          "base_uri": "https://localhost:8080/"
        },
        "outputId": "8ecc6e0d-f0cf-4f1f-aa98-6f1d0e52d187"
      },
      "execution_count": null,
      "outputs": [
        {
          "output_type": "stream",
          "name": "stdout",
          "text": [
            "Digite uma frase:                 Henlo Fren                   \n",
            "Henlo Fren\n"
          ]
        }
      ]
    },
    {
      "cell_type": "markdown",
      "source": [
        "#### Questão 7\n",
        "\n",
        "\n",
        "Crie um código que solicite uma frase à pessoa usuária e imprima a mesma frase sem espaços em branco no início e no fim e em letras minúsculas."
      ],
      "metadata": {
        "id": "eRxc2OeX8Nh2"
      }
    },
    {
      "cell_type": "code",
      "source": [
        "frase = input(\"Digite uma frase: \")\n",
        "print(frase.strip().lower())"
      ],
      "metadata": {
        "id": "DYm0_UwS8ih6",
        "colab": {
          "base_uri": "https://localhost:8080/"
        },
        "outputId": "718cd12c-6eab-4840-9c94-436c223e9b7f"
      },
      "execution_count": null,
      "outputs": [
        {
          "output_type": "stream",
          "name": "stdout",
          "text": [
            "Digite uma frase:             HENLO FREN                  \n",
            "henlo fren\n"
          ]
        }
      ]
    },
    {
      "cell_type": "markdown",
      "source": [
        "#### Questão 8\n",
        "\n",
        "Crie um código que solicite uma frase à pessoa usuária e imprima a mesma frase com todas as vogais “`e`” trocadas pela letra “`f`”."
      ],
      "metadata": {
        "id": "UKATLavs8NfI"
      }
    },
    {
      "cell_type": "code",
      "source": [
        "frase = input(\"Digite uma frase: \")\n",
        "print(frase.replace('e', 'f'))"
      ],
      "metadata": {
        "id": "k64C5G5S8iLO",
        "colab": {
          "base_uri": "https://localhost:8080/"
        },
        "outputId": "49183d52-cf91-4e2a-d235-42481dde036a"
      },
      "execution_count": null,
      "outputs": [
        {
          "output_type": "stream",
          "name": "stdout",
          "text": [
            "Digite uma frase: Henlo Fren\n",
            "Hfnlo Frfn\n"
          ]
        }
      ]
    },
    {
      "cell_type": "markdown",
      "source": [
        "#### Questão 9\n",
        "\n",
        "\n",
        "Crie um código que solicite uma frase à pessoa usuária e imprima a mesma frase com todas as vogais “`a`” trocadas pela caractere  “`@`”."
      ],
      "metadata": {
        "id": "n_1SPchw8NdG"
      }
    },
    {
      "cell_type": "code",
      "source": [
        "frase = input(\"Digite uma frase: \")\n",
        "print(frase.replace('a', '@'))"
      ],
      "metadata": {
        "id": "msaDNm_p8h0D",
        "colab": {
          "base_uri": "https://localhost:8080/"
        },
        "outputId": "bf29d52d-2fc5-44c2-bbf0-ba7fca97a94f"
      },
      "execution_count": null,
      "outputs": [
        {
          "output_type": "stream",
          "name": "stdout",
          "text": [
            "Digite uma frase: a minha amiga se chama amanda\n",
            "@ minh@ @mig@ se ch@m@ @m@nd@\n"
          ]
        }
      ]
    },
    {
      "cell_type": "markdown",
      "source": [
        "#### Questão 10\n",
        "\n",
        "\n",
        "Crie um código que solicite uma frase à pessoa usuária e imprima a mesma frase com todas as consoantes “`s`” trocadas pelo caractere  “`$`”."
      ],
      "metadata": {
        "id": "H3sTTjqI8Naa"
      }
    },
    {
      "cell_type": "code",
      "source": [
        "frase = input(\"Digite uma frase: \")\n",
        "print(frase.replace('s', '$'))"
      ],
      "metadata": {
        "id": "RPBIsWT68e-1",
        "colab": {
          "base_uri": "https://localhost:8080/"
        },
        "outputId": "6218529e-c7ef-4513-fdd3-e8ec28ff2a0a"
      },
      "execution_count": null,
      "outputs": [
        {
          "output_type": "stream",
          "name": "stdout",
          "text": [
            "Digite uma frase: só sei que nada sei\n",
            "$ó $ei que nada $ei\n"
          ]
        }
      ]
    },
    {
      "cell_type": "markdown",
      "source": [
        "## Aula 3 - Estruturas condicionais"
      ],
      "metadata": {
        "id": "XGePe4GD2I59"
      }
    },
    {
      "cell_type": "markdown",
      "source": [
        "### Aquecendo na programação"
      ],
      "metadata": {
        "id": "Pr9HTW0UHCdD"
      }
    },
    {
      "cell_type": "markdown",
      "source": [
        "#### Questão 1\n",
        "Escreva um programa que peça à pessoa usuária para fornecer dois números e exibir o número maior."
      ],
      "metadata": {
        "id": "xBZHqhVg80Fy"
      }
    },
    {
      "cell_type": "code",
      "source": [
        "num_1 = float(input(\"Insira o primeiro número: \"))\n",
        "num_2 = float(input(\"Insira o segundo número: \"))\n",
        "if num_1 == num_2:\n",
        "  print(\"Os números são iguais.\")\n",
        "if num_1 > num_2:\n",
        "  print(f\"{num_1} é maior que {num_2}.\")\n",
        "if num_1 < num_2:\n",
        "  print(f\"{num_1} é menor que {num_2}\")"
      ],
      "metadata": {
        "id": "GJlGnzjc-xyF",
        "colab": {
          "base_uri": "https://localhost:8080/"
        },
        "outputId": "b5af8687-a952-4c51-aef1-9e09e0c00580"
      },
      "execution_count": null,
      "outputs": [
        {
          "output_type": "stream",
          "name": "stdout",
          "text": [
            "Insira o primeiro número: 5\n",
            "Insira o segundo número: 7\n",
            "5.0 é menor que 7.0\n"
          ]
        }
      ]
    },
    {
      "cell_type": "markdown",
      "source": [
        "#### Questão 2\n",
        "Escreva um programa que solicite o percentual de crescimento de produção de uma empresa e informe se houve um crescimento (porcentagem positiva) ou decrescimento (porcentagem negativa)."
      ],
      "metadata": {
        "id": "H4sgN7dyHNJF"
      }
    },
    {
      "cell_type": "code",
      "source": [
        "percentual = float(input(\"Insira o valor do percentual de crescimento de produção: \"))\n",
        "if percentual == 0:\n",
        "  print(\"Não houve nem crescimento e nem decrescimento.\")\n",
        "if percentual < 0:\n",
        "  print(\"Houve decrescimento.\")\n",
        "if percentual > 0:\n",
        "  print(\"Houve crescimento.\")"
      ],
      "metadata": {
        "id": "-2_Ry5XJ-yZW",
        "colab": {
          "base_uri": "https://localhost:8080/"
        },
        "outputId": "dc8eea9d-ef28-4b56-a87d-9e838081b4bc"
      },
      "execution_count": null,
      "outputs": [
        {
          "output_type": "stream",
          "name": "stdout",
          "text": [
            "Insira o valor do percentual de crescimento de produção: 3\n",
            "Houve crescimento.\n"
          ]
        }
      ]
    },
    {
      "cell_type": "markdown",
      "source": [
        "#### Questão 3\n",
        "Escreva um programa que determine se uma letra fornecida pela pessoa usuária é uma vogal ou consoante."
      ],
      "metadata": {
        "id": "a_mzNOBDHNny"
      }
    },
    {
      "cell_type": "code",
      "source": [
        "vogais = \"a, e, i, o, u\"\n",
        "letra_usuario = input(\"Insira uma letra: \")\n",
        "if letra_usuario in vogais:\n",
        "  print(f\"{letra_usuario} é uma vogal.\")\n",
        "else:\n",
        "  print(f\"{letra_usuario} é uma consoante.\")"
      ],
      "metadata": {
        "id": "NbgndVyg-zFJ",
        "colab": {
          "base_uri": "https://localhost:8080/"
        },
        "outputId": "1bb6cdbb-6d6f-449f-bd81-63e7e86bce99"
      },
      "execution_count": null,
      "outputs": [
        {
          "output_type": "stream",
          "name": "stdout",
          "text": [
            "Insira uma letra: p\n",
            "p é uma consoante.\n"
          ]
        }
      ]
    },
    {
      "cell_type": "markdown",
      "source": [
        "#### Questão 4\n",
        "Escreva um programa que leia valores médios de preços de um modelo de carro por 3 anos consecutivos e exiba o valor mais alto e mais baixo entre esses três anos."
      ],
      "metadata": {
        "id": "mofMRjSZHP99"
      }
    },
    {
      "cell_type": "code",
      "source": [
        "val_1 = float(input(\"Insira o primeiro valor médio de preço do carro: \"))\n",
        "val_2 = float(input(\"Insira o segundo valor médio de preço do carro: \"))\n",
        "val_3 = float(input(\"Insira o terceiro valor médio de preço do carro: \"))\n",
        "\n",
        "if val_1 > val_2 and val_1 > val_3:\n",
        "  print(f\"{val_1} foi o valor mais alto.\")\n",
        "  if val_3 > val_2:\n",
        "    print(f\"{val_2} foi o valor mais baixo\")\n",
        "  else:\n",
        "    print(f\"{val_3} foi o valor mair baixo\")\n",
        "elif val_2 > val_1 and val_2 > val_3:\n",
        "  print(f\"{val_2} foi o valor mais alto\")\n",
        "  if val_3 > val_1:\n",
        "    print(f\"{val_1} foi o valor mais baixo\")\n",
        "  else:\n",
        "    print(f\"{val_3} foi o valor mais baixo\")\n",
        "elif val_3 > val_1 and val_3 > val_2:\n",
        "  print(f\"{val_3} foi o valor mais alto\")\n",
        "  if val_2 > val_1:\n",
        "    print(f\"{val_1} foi o valor mais baixo\")\n",
        "  else:\n",
        "    print(f\"{val_2} foi o valor mais baixo\")\n"
      ],
      "metadata": {
        "id": "TX--d3k9-02c",
        "colab": {
          "base_uri": "https://localhost:8080/"
        },
        "outputId": "6a59b124-1f58-4739-c353-c875f9706be5"
      },
      "execution_count": null,
      "outputs": [
        {
          "output_type": "stream",
          "name": "stdout",
          "text": [
            "Insira o primeiro valor médio de preço do carro: 7\n",
            "Insira o segundo valor médio de preço do carro: 5\n",
            "Insira o terceiro valor médio de preço do carro: 9\n",
            "9.0 foi o valor mais alto\n",
            "5.0 foi o valor mais baixo\n"
          ]
        }
      ]
    },
    {
      "cell_type": "markdown",
      "source": [
        "#### Questão 5\n",
        "Escreva um programa que pergunte sobre o preço de três produtos e indique qual é o produto mais barato para comprar."
      ],
      "metadata": {
        "id": "jY5tIwd-HQzc"
      }
    },
    {
      "cell_type": "code",
      "source": [
        "prod_1 = float(input(\"Insira o preço do primeiro produto: \"))\n",
        "prod_2 = float(input(\"Insira o preço do segundo produto: \"))\n",
        "prod_3 = float(input(\"Insira o preço do terceiro produto: \"))\n",
        "\n",
        "prod_menor = prod_1\n",
        "\n",
        "if prod_2 < prod_1:\n",
        "  prod_menor = prod_2\n",
        "\n",
        "if prod_3 < prod_2:\n",
        "  prod_menor = prod_3\n",
        "\n",
        "print(f\"O produto com o menor preço custa R${prod_menor:.2f}\")"
      ],
      "metadata": {
        "id": "sYqNh9df-0gk",
        "colab": {
          "base_uri": "https://localhost:8080/"
        },
        "outputId": "54eeceff-6d9c-4d0b-b717-41b3dfe67281"
      },
      "execution_count": null,
      "outputs": [
        {
          "output_type": "stream",
          "name": "stdout",
          "text": [
            "Insira o preço do primeiro produto: 5\n",
            "Insira o preço do segundo produto: 3\n",
            "Insira o preço do terceiro produto: 2\n",
            "O produto com o menor preço custa R$2.00\n"
          ]
        }
      ]
    },
    {
      "cell_type": "markdown",
      "source": [
        "#### Questão 6\n",
        "Escreva um programa que leia três números e os exiba em ordem decrescente."
      ],
      "metadata": {
        "id": "1r6aVxtTHR4E"
      }
    },
    {
      "cell_type": "code",
      "source": [
        "num_1 = float(input(\"Insira o primeiro número: \"))\n",
        "num_2 = float(input(\"Insira o segundo número: \"))\n",
        "num_3 = float(input(\"Insira o terceiro número: \"))\n",
        "\n",
        "lista = [num_1, num_2, num_3]\n",
        "lista = sorted(lista)\n",
        "\n",
        "print(lista[-1], lista[-2], lista[-3])\n"
      ],
      "metadata": {
        "id": "ydOCYUMO-0Hk",
        "colab": {
          "base_uri": "https://localhost:8080/"
        },
        "outputId": "997685df-36c1-4dae-af6b-b6a79f95ddd3"
      },
      "execution_count": null,
      "outputs": [
        {
          "output_type": "stream",
          "name": "stdout",
          "text": [
            "Insira o primeiro número: 5\n",
            "Insira o segundo número: 2\n",
            "Insira o terceiro número: 7\n",
            "7.0 5.0 2.0\n"
          ]
        }
      ]
    },
    {
      "cell_type": "markdown",
      "source": [
        "#### Questão 7\n",
        "Escreva um programa que pergunte em qual turno a pessoa usuária estuda (\"manhã\", \"tarde\" ou \"noite\") e exiba a mensagem \"Bom Dia!\", \"Boa Tarde!\", \"Boa Noite!\", ou \"Valor Inválido!\", conforme o caso."
      ],
      "metadata": {
        "id": "inW3F-hAHS_X"
      }
    },
    {
      "cell_type": "code",
      "source": [
        "turno = int(input(\"\"\"Insira em qual turma você estuda.\n",
        "1. Manhã\n",
        "2. Tarde\n",
        "3. Noite\\n\"\"\"))\n",
        "\n",
        "match turno:\n",
        "  case 1:\n",
        "    print(\"Bom dia\")\n",
        "  case 2:\n",
        "    print(\"Boa tarde\")\n",
        "  case 3:\n",
        "    print(\"Boa noite\")\n",
        "  case _:\n",
        "    print(\"Valor Inválido\")"
      ],
      "metadata": {
        "id": "-_q-Pcr_-zth",
        "colab": {
          "base_uri": "https://localhost:8080/"
        },
        "outputId": "8199f82d-8336-4db5-f3fc-76b5f9a13bc8"
      },
      "execution_count": null,
      "outputs": [
        {
          "output_type": "stream",
          "name": "stdout",
          "text": [
            "Insira em qual turma você estuda.\n",
            "1. Manhã\n",
            "2. Tarde\n",
            "3. Noite\n",
            "6\n",
            "Valor Inválido\n"
          ]
        }
      ]
    },
    {
      "cell_type": "markdown",
      "source": [
        "#### Questão 8\n",
        "Escreva um programa que peça um número inteiro à pessoa usuária e determine se ele é par ou ímpar. Dica: Você pode utilizar o operador módulo `%`."
      ],
      "metadata": {
        "id": "NCCPF3QqHTw-"
      }
    },
    {
      "cell_type": "code",
      "source": [
        "num = int(input(\"Insira um número inteiro: \"))\n",
        "if num % 2 == 0:\n",
        "  print(\"Este é um número par.\")\n",
        "else:\n",
        "  print(\"Este é um número ímpar.\")"
      ],
      "metadata": {
        "id": "OmZJt1nQ-3e6",
        "colab": {
          "base_uri": "https://localhost:8080/"
        },
        "outputId": "732cea20-6e72-4d78-dcba-c9c196220259"
      },
      "execution_count": null,
      "outputs": [
        {
          "output_type": "stream",
          "name": "stdout",
          "text": [
            "Insira um número inteiro: 6\n",
            "Este é um número par.\n"
          ]
        }
      ]
    },
    {
      "cell_type": "markdown",
      "source": [
        "#### Questão 9\n",
        "Escreva um programa que peça um número à pessoa usuária e informe se ele é inteiro ou decimal."
      ],
      "metadata": {
        "id": "h93Ck1tQHUwE"
      }
    },
    {
      "cell_type": "code",
      "source": [
        "num = float(input(\"Insira um número: \"))\n",
        "if num % 1 == 0:\n",
        "  print(\"Este é um número inteiro.\")\n",
        "else:\n",
        "  print(\"Este é um número decimal.\")"
      ],
      "metadata": {
        "id": "sLMlZcx8-20N",
        "colab": {
          "base_uri": "https://localhost:8080/"
        },
        "outputId": "87b340b8-6dd0-4df8-9027-40f088e633fc"
      },
      "execution_count": null,
      "outputs": [
        {
          "output_type": "stream",
          "name": "stdout",
          "text": [
            "Insira um número: 1.5\n",
            "Este é um número decimal.\n"
          ]
        }
      ]
    },
    {
      "cell_type": "markdown",
      "source": [
        "### Momento dos projetos"
      ],
      "metadata": {
        "id": "bKdXSK1SH_pF"
      }
    },
    {
      "cell_type": "markdown",
      "source": [
        "#### Questão 10\n",
        "Um programa deve ser escrito para ler dois números e, em seguida, perguntar à pessoa usuária qual operação ele deseja realizar. O resultado da operação deve incluir informações sobre o número - se é par ou ímpar, positivo ou negativo e inteiro ou decimal."
      ],
      "metadata": {
        "id": "WBlEyyzsHV86"
      }
    },
    {
      "cell_type": "code",
      "source": [
        "def opcao_operacao():\n",
        "  try:\n",
        "      operacao = int(input(\"\"\"Qual operação deseja fazer?\n",
        "  1. Adição\n",
        "  2. Subtração\n",
        "  3. Multiplicação\n",
        "  4. Divisão\\n\"\"\"))\n",
        "  except:\n",
        "    print(\"Opção Inválida\")\n",
        "    operacao = opcao_operacao()\n",
        "  return operacao\n",
        "\n",
        "def calculo(operacao):\n",
        "  match operacao:\n",
        "    case 1:\n",
        "      num_2 = float(input(\"Insira o segundo número: \"))\n",
        "      resultado = num_1 + num_2\n",
        "      print(f\"O resultado é {resultado}.\")\n",
        "    case 2:\n",
        "      num_2 = float(input(\"Insira o segundo número: \"))\n",
        "      resultado = num_1 - num_2\n",
        "      print(f\"O resultado é {resultado}.\")\n",
        "    case 3:\n",
        "      num_2 = float(input(\"Insira o segundo número: \"))\n",
        "      resultado = num_1 * num_2\n",
        "      print(f\"O resultado é {resultado}.\")\n",
        "    case 4:\n",
        "      num_2 = float(input(\"Insira o segundo número: \"))\n",
        "      resultado = num_1 / num_2\n",
        "      print(f\"O resultado é {resultado}.\")\n",
        "    case _:\n",
        "      print(\"Opção Inválida\")\n",
        "      operacao = opcao_operacao()\n",
        "      resultado = calculo(operacao)\n",
        "  return resultado\n",
        "\n",
        "num_1 = float(input(\"Insira o primeiro número: \"))\n",
        "operacao = opcao_operacao()\n",
        "resultado = calculo(operacao)\n",
        "\n",
        "if resultado % 2 == 0:\n",
        "  print(\"Este é um número par.\")\n",
        "else:\n",
        "  print(\"Este é um número ímpar.\")\n",
        "\n",
        "if resultado > 0:\n",
        "  print(\"Este é um número positivo.\")\n",
        "elif resultado < 0:\n",
        "  print(\"Este é um número negativo.\")\n",
        "else:\n",
        "  print(\"Este número é exatamente igual a 0.\")\n",
        "\n",
        "if resultado % 1 == 0:\n",
        "  print(\"Este é um número inteiro.\")\n",
        "else:\n",
        "  print(\"Este é um número decimal.\")\n"
      ],
      "metadata": {
        "id": "3jmahZ0f-2gq",
        "colab": {
          "base_uri": "https://localhost:8080/"
        },
        "outputId": "33e62db5-8cc6-4340-8704-46e87590bb25"
      },
      "execution_count": null,
      "outputs": [
        {
          "output_type": "stream",
          "name": "stdout",
          "text": [
            "Insira o primeiro número: 15\n",
            "Qual operação deseja fazer?\n",
            "  1. Adição\n",
            "  2. Subtração\n",
            "  3. Multiplicação\n",
            "  4. Divisão\n",
            "p\n",
            "Opção Inválida\n",
            "Qual operação deseja fazer?\n",
            "  1. Adição\n",
            "  2. Subtração\n",
            "  3. Multiplicação\n",
            "  4. Divisão\n",
            "9\n",
            "Opção Inválida\n",
            "Qual operação deseja fazer?\n",
            "  1. Adição\n",
            "  2. Subtração\n",
            "  3. Multiplicação\n",
            "  4. Divisão\n",
            "p\n",
            "Opção Inválida\n",
            "Qual operação deseja fazer?\n",
            "  1. Adição\n",
            "  2. Subtração\n",
            "  3. Multiplicação\n",
            "  4. Divisão\n",
            "8\n",
            "Opção Inválida\n",
            "Qual operação deseja fazer?\n",
            "  1. Adição\n",
            "  2. Subtração\n",
            "  3. Multiplicação\n",
            "  4. Divisão\n",
            "l\n",
            "Opção Inválida\n",
            "Qual operação deseja fazer?\n",
            "  1. Adição\n",
            "  2. Subtração\n",
            "  3. Multiplicação\n",
            "  4. Divisão\n",
            "4\n",
            "Insira o segundo número: 2\n",
            "O resultado é 7.5.\n",
            "Este é um número ímpar.\n",
            "Este é um número positivo.\n",
            "Este é um número decimal.\n"
          ]
        }
      ]
    },
    {
      "cell_type": "markdown",
      "source": [
        "#### Questão 11\n",
        "Escreva um programa que peça à pessoa usuária três números que representam os lados de um triângulo. O programa deve informar se os valores podem ser utilizados para formar um triângulo e, caso afirmativo, se ele é equilátero, isósceles ou escaleno. Tenha em mente algumas dicas:\n",
        "- Três lados formam um triângulo quando a soma de quaisquer dois lados for maior que o terceiro;\n",
        "- Triângulo Equilátero: três lados iguais;\n",
        "- Triângulo Isósceles: quaisquer dois lados iguais;\n",
        "- Triângulo Escaleno: três lados diferentes;\n"
      ],
      "metadata": {
        "id": "VdnlULxHHW19"
      }
    },
    {
      "cell_type": "code",
      "source": [
        "lado_a = float(input(\"Insira o valor do primeiro lado: \"))\n",
        "lado_b = float(input(\"Insira o valor do segundo lado: \"))\n",
        "lado_c = float(input(\"Insira o valor do terceiro lado: \"))\n",
        "\n",
        "if (lado_a + lado_b > lado_c) and (lado_a + lado_c > lado_b) and (lado_c + lado_b > lado_a):\n",
        "  if lado_a == lado_b == lado_c:\n",
        "    print(\"Este é um triângulo equilátero.\")\n",
        "  elif lado_a != lado_b != lado_c:\n",
        "    print(\"Este é um triângulo escaleno.\")\n",
        "  else:\n",
        "    print(\"Este é um triângulo isósceles.\")\n",
        "else:\n",
        "  print(\"Estas medidas não formam um triângulo.\")"
      ],
      "metadata": {
        "id": "0z73sqUO-2Pw",
        "colab": {
          "base_uri": "https://localhost:8080/"
        },
        "outputId": "1c95c26f-4990-4e07-89dd-52e62517d146"
      },
      "execution_count": null,
      "outputs": [
        {
          "output_type": "stream",
          "name": "stdout",
          "text": [
            "Insira o valor do primeiro lado: 8\n",
            "Insira o valor do segundo lado: 6\n",
            "Insira o valor do terceiro lado: 15\n",
            "Estas medidas não formam um triângulo.\n"
          ]
        }
      ]
    },
    {
      "cell_type": "markdown",
      "source": [
        "#### Questão 12\n",
        "Um estabelecimento está vendendo combustíveis com descontos variados. Para o etanol, se a quantidade comprada for até 15 litros, o desconto será de 2% por litro. Caso contrário, será de 4% por litro. Para o diesel, se a quantidade comprada for até 15 litros, o desconto será de 3% por litro. Caso contrário, será de 5% por litro. O preço do litro de diesel é R\\$ 2,00 e o preço do litro de etanol é R\\$ 1,70. Escreva um programa que leia a quantidade de litros vendidos e o tipo de combustível (E para etanol e D para diesel) e calcule o valor a ser pago pelo cliente. Tenha em mente algumas dicas:\n",
        "\n",
        "- O do valor do desconto será a multiplicação entre preço do litro, quantidade de litros e o valor do desconto.\n",
        "- O valor a ser pago por um cliente será o resultado da multiplicação do preço do litro pela quantidade de litros menos o valor de desconto resultante do cálculo.\n"
      ],
      "metadata": {
        "id": "_PpEpOugHXwZ"
      }
    },
    {
      "cell_type": "code",
      "source": [
        "while True:\n",
        "    try:\n",
        "      tipo_combustivel = int(input(\"\"\"Digite qual o tipo de combustível que deseja comprar:\n",
        "      1. Etanol\n",
        "      2. Diesel\\n\"\"\"))\n",
        "      if tipo_combustivel == 1 or tipo_combustivel == 2:\n",
        "        break\n",
        "      else:\n",
        "        print(\"Valor inválido\")\n",
        "    except:\n",
        "      print(\"Valor inválido.\")\n",
        "\n",
        "while True:\n",
        "    try:\n",
        "      qtd_combustivel = float(input(\"Digite quantos litros deseja comprar: \"))\n",
        "      break\n",
        "    except:\n",
        "      print(\"Valor inválido.\")\n",
        "\n",
        "match tipo_combustivel:\n",
        "  case 1:\n",
        "    if qtd_combustivel <= 15:\n",
        "      desconto = 0.02\n",
        "      preco_final = (1.70 * qtd_combustivel) - (1.70 * qtd_combustivel * desconto)\n",
        "      print(f\"R${preco_final:.2f}\")\n",
        "    else:\n",
        "      desconto = 0.04\n",
        "      preco_final = (1.70 * qtd_combustivel) - (1.70 * qtd_combustivel * desconto)\n",
        "      print(f\"R${preco_final:.2f}\")\n",
        "  case 2:\n",
        "    if qtd_combustivel <= 15:\n",
        "      desconto = 0.03\n",
        "      preco_final = (2 * qtd_combustivel) - (2 * qtd_combustivel * desconto)\n",
        "      print(f\"R${preco_final:.2f}\")\n",
        "    else:\n",
        "      desconto = 0.05\n",
        "      preco_final = (2 * qtd_combustivel) - (2 * qtd_combustivel * desconto)\n",
        "      print(f\"R${preco_final:.2f}\")\n"
      ],
      "metadata": {
        "id": "9izoF-0O-1yD",
        "colab": {
          "base_uri": "https://localhost:8080/"
        },
        "outputId": "6bf561a2-49b3-4fd3-9b5e-9ca285aa0a4c"
      },
      "execution_count": null,
      "outputs": [
        {
          "output_type": "stream",
          "name": "stdout",
          "text": [
            "Digite qual o tipo de combustível que deseja comprar:\n",
            "      1. Etanol\n",
            "      2. Diesel\n",
            "p\n",
            "Valor inválido.\n",
            "Digite qual o tipo de combustível que deseja comprar:\n",
            "      1. Etanol\n",
            "      2. Diesel\n",
            "8\n",
            "Valor inválido\n",
            "Digite qual o tipo de combustível que deseja comprar:\n",
            "      1. Etanol\n",
            "      2. Diesel\n",
            "1\n",
            "Digite quantos litros deseja comprar: p\n",
            "Valor inválido.\n",
            "Digite quantos litros deseja comprar: 100\n",
            "R$163.20\n"
          ]
        }
      ]
    },
    {
      "cell_type": "markdown",
      "source": [
        "#### Questão 13\n",
        "Em uma empresa de venda de imóveis você precisa criar um código que analise os dados de vendas anuais para ajudar a diretoria na tomada de decisão. O código precisa coletar os dados de quantidade de venda durante os anos de 2022 e 2023 e fazer um cálculo de variação percentual. A partir do valor da variação, deve ser enviada às seguintes sugestões:\n",
        "- Para variação acima de 20%: bonificação para o time de vendas.\n",
        "- Para variação entre 2% e 20%: pequena bonificação para time de vendas.\n",
        "- Para variação entre 2% e -10%: planejamento de políticas de incentivo às vendas.\n",
        "- Para bonificações abaixo de -10%: corte de gastos.\n"
      ],
      "metadata": {
        "id": "s_XS_D1WHY2R"
      }
    },
    {
      "cell_type": "code",
      "source": [
        "valor_2022 = float(input(\"Insira o valor das vendas de 2022: \"))\n",
        "valor_2023 = float(input(\"Insira o valor das vendas de 2023: \"))\n",
        "\n",
        "percentagem = (valor_2023 - valor_2022) * 100 / valor_2022\n",
        "\n",
        "if percentagem > 20:\n",
        "  print(f\"A variação foi de {percentagem:.2f}%. Bonificação para o time de vendas.\")\n",
        "elif 2 < percentagem <= 20:\n",
        "  print(f\"A variação foi de {percentagem:.2f}%. Pequena bonificação para o time de vendas.\")\n",
        "elif -10 < percentagem <= 2:\n",
        "  print(f\"A variação foi de {percentagem:.2f}%. Planejamento de políticas de incentivo às vendas.\")\n",
        "else:\n",
        "  print(f\"A variação foi de {percentagem:.2f}%. Corte de gastos.\")"
      ],
      "metadata": {
        "id": "avQrYlUg-w8f",
        "colab": {
          "base_uri": "https://localhost:8080/"
        },
        "outputId": "ee0ef8a0-8f63-41e2-b1fd-31501e5a5285"
      },
      "execution_count": null,
      "outputs": [
        {
          "output_type": "stream",
          "name": "stdout",
          "text": [
            "Insira o valor das vendas de 2022: 50\n",
            "Insira o valor das vendas de 2023: 45\n",
            "A variação foi de -10.00%. Corte de gastos.\n"
          ]
        }
      ]
    },
    {
      "cell_type": "markdown",
      "source": [
        "## Aula 4 - Estruturas de repetição"
      ],
      "metadata": {
        "id": "AuaWh4-d2Itt"
      }
    },
    {
      "cell_type": "markdown",
      "source": [
        "### Aquecendo na programação"
      ],
      "metadata": {
        "id": "6MSqU0sIJRdD"
      }
    },
    {
      "cell_type": "markdown",
      "source": [
        "#### Questão 1\n",
        "Escreva um programa que peça dois números inteiros e imprima todos os números inteiros entre eles."
      ],
      "metadata": {
        "id": "9eGGyCnAJRdQ"
      }
    },
    {
      "cell_type": "code",
      "source": [
        "num_1 = int(input(\"Insira o primeiro número: \"))\n",
        "num_2 = int(input(\"Insira o segundo número: \"))\n",
        "\n",
        "for i in range(num_1, num_2 + 1):\n",
        "  print(i)"
      ],
      "metadata": {
        "id": "ID1oc1hxJRdQ",
        "colab": {
          "base_uri": "https://localhost:8080/"
        },
        "outputId": "49a03f4f-80e5-47a6-d12f-fbe829eef209"
      },
      "execution_count": null,
      "outputs": [
        {
          "output_type": "stream",
          "name": "stdout",
          "text": [
            "Insira o primeiro número: 1\n",
            "Insira o segundo número: 10\n",
            "1\n",
            "2\n",
            "3\n",
            "4\n",
            "5\n",
            "6\n",
            "7\n",
            "8\n",
            "9\n",
            "10\n"
          ]
        }
      ]
    },
    {
      "cell_type": "markdown",
      "source": [
        "#### Questão 2\n",
        "Escreva um programa para calcular quantos dias levará para a colônia de uma bactéria A ultrapassar ou igualar a colônia de uma bactéria B, com base nas taxas de crescimento de 3% e 1,5% respectivamente. Considere que a colônia A inicia com 4 elementos e a colônia B com 10 elementos."
      ],
      "metadata": {
        "id": "mGonEHYCJRdR"
      }
    },
    {
      "cell_type": "code",
      "source": [
        "dias = 0\n",
        "colonia_a = 4\n",
        "colonia_b = 10\n",
        "\n",
        "while colonia_a <= colonia_b:\n",
        "  colonia_a = colonia_a * 1.03\n",
        "  colonia_b = colonia_b * 1.015\n",
        "  dias += 1\n",
        "\n",
        "print(f\"Levará {dias} dias para a colônia A ultrapassar a colônia B\")\n"
      ],
      "metadata": {
        "id": "wM6FJuoqJRdR",
        "colab": {
          "base_uri": "https://localhost:8080/"
        },
        "outputId": "497d7d3e-2271-4417-eb78-c8477d890a8d"
      },
      "execution_count": null,
      "outputs": [
        {
          "output_type": "stream",
          "name": "stdout",
          "text": [
            "Levará 63 dias para a colônia A ultrapassar a colônia B\n"
          ]
        }
      ]
    },
    {
      "cell_type": "markdown",
      "source": [
        "#### Questão 3\n",
        "Para tratar uma quantidade de 15 dados de avaliações de pessoas usuárias de um serviço da empresa, precisamos verificar se as notas são válidas. Então, escreva um programa que vai receber a nota de 0 a 5 de todos os dados e verificar se é um valor válido. Caso seja inserido uma nota acima de 5 ou abaixo de 0, repita até que a pessoa usuária insira um valor válido."
      ],
      "metadata": {
        "id": "UiOZRlqoJRdR"
      }
    },
    {
      "cell_type": "code",
      "source": [
        "for i in range(1, 16):\n",
        "  nota = int(input(\"Insira o valor da nota: \"))\n",
        "\n",
        "  while nota < 0 or nota > 5:\n",
        "    print(\"Nota inválida\")\n",
        "    nota = int(input(\"Insira o valor da nota: \"))\n",
        "\n",
        "  print(f\"O valor da nota {i} é {nota}.\")\n"
      ],
      "metadata": {
        "id": "3TUAhCxcJRdR",
        "colab": {
          "base_uri": "https://localhost:8080/",
          "height": 635
        },
        "outputId": "5b5bc893-5417-4b08-b6d2-08a2a5ed902a"
      },
      "execution_count": null,
      "outputs": [
        {
          "output_type": "stream",
          "name": "stdout",
          "text": [
            "Insira o valor da nota: 70\n",
            "Nota inválida\n",
            "Insira o valor da nota: 5\n",
            "O valor da nota 1 é 5.\n",
            "Insira o valor da nota: -10\n",
            "Nota inválida\n",
            "Insira o valor da nota: 3\n",
            "O valor da nota 2 é 3.\n",
            "Insira o valor da nota: 0\n",
            "O valor da nota 3 é 0.\n",
            "Insira o valor da nota: 80\n",
            "Nota inválida\n",
            "Insira o valor da nota: 5\n",
            "O valor da nota 4 é 5.\n"
          ]
        },
        {
          "output_type": "error",
          "ename": "KeyboardInterrupt",
          "evalue": "ignored",
          "traceback": [
            "\u001b[0;31m---------------------------------------------------------------------------\u001b[0m",
            "\u001b[0;31mKeyboardInterrupt\u001b[0m                         Traceback (most recent call last)",
            "\u001b[0;32m<ipython-input-12-18a633fa3aed>\u001b[0m in \u001b[0;36m<cell line: 1>\u001b[0;34m()\u001b[0m\n\u001b[1;32m      1\u001b[0m \u001b[0;32mfor\u001b[0m \u001b[0mi\u001b[0m \u001b[0;32min\u001b[0m \u001b[0mrange\u001b[0m\u001b[0;34m(\u001b[0m\u001b[0;36m1\u001b[0m\u001b[0;34m,\u001b[0m \u001b[0;36m16\u001b[0m\u001b[0;34m)\u001b[0m\u001b[0;34m:\u001b[0m\u001b[0;34m\u001b[0m\u001b[0;34m\u001b[0m\u001b[0m\n\u001b[0;32m----> 2\u001b[0;31m   \u001b[0mnota\u001b[0m \u001b[0;34m=\u001b[0m \u001b[0mint\u001b[0m\u001b[0;34m(\u001b[0m\u001b[0minput\u001b[0m\u001b[0;34m(\u001b[0m\u001b[0;34m\"Insira o valor da nota: \"\u001b[0m\u001b[0;34m)\u001b[0m\u001b[0;34m)\u001b[0m\u001b[0;34m\u001b[0m\u001b[0;34m\u001b[0m\u001b[0m\n\u001b[0m\u001b[1;32m      3\u001b[0m \u001b[0;34m\u001b[0m\u001b[0m\n\u001b[1;32m      4\u001b[0m   \u001b[0;32mwhile\u001b[0m \u001b[0mnota\u001b[0m \u001b[0;34m<\u001b[0m \u001b[0;36m0\u001b[0m \u001b[0;32mor\u001b[0m \u001b[0mnota\u001b[0m \u001b[0;34m>\u001b[0m \u001b[0;36m5\u001b[0m\u001b[0;34m:\u001b[0m\u001b[0;34m\u001b[0m\u001b[0;34m\u001b[0m\u001b[0m\n\u001b[1;32m      5\u001b[0m     \u001b[0mprint\u001b[0m\u001b[0;34m(\u001b[0m\u001b[0;34m\"Nota inválida\"\u001b[0m\u001b[0;34m)\u001b[0m\u001b[0;34m\u001b[0m\u001b[0;34m\u001b[0m\u001b[0m\n",
            "\u001b[0;32m/usr/local/lib/python3.10/dist-packages/ipykernel/kernelbase.py\u001b[0m in \u001b[0;36mraw_input\u001b[0;34m(self, prompt)\u001b[0m\n\u001b[1;32m    849\u001b[0m                 \u001b[0;34m\"raw_input was called, but this frontend does not support input requests.\"\u001b[0m\u001b[0;34m\u001b[0m\u001b[0;34m\u001b[0m\u001b[0m\n\u001b[1;32m    850\u001b[0m             )\n\u001b[0;32m--> 851\u001b[0;31m         return self._input_request(str(prompt),\n\u001b[0m\u001b[1;32m    852\u001b[0m             \u001b[0mself\u001b[0m\u001b[0;34m.\u001b[0m\u001b[0m_parent_ident\u001b[0m\u001b[0;34m,\u001b[0m\u001b[0;34m\u001b[0m\u001b[0;34m\u001b[0m\u001b[0m\n\u001b[1;32m    853\u001b[0m             \u001b[0mself\u001b[0m\u001b[0;34m.\u001b[0m\u001b[0m_parent_header\u001b[0m\u001b[0;34m,\u001b[0m\u001b[0;34m\u001b[0m\u001b[0;34m\u001b[0m\u001b[0m\n",
            "\u001b[0;32m/usr/local/lib/python3.10/dist-packages/ipykernel/kernelbase.py\u001b[0m in \u001b[0;36m_input_request\u001b[0;34m(self, prompt, ident, parent, password)\u001b[0m\n\u001b[1;32m    893\u001b[0m             \u001b[0;32mexcept\u001b[0m \u001b[0mKeyboardInterrupt\u001b[0m\u001b[0;34m:\u001b[0m\u001b[0;34m\u001b[0m\u001b[0;34m\u001b[0m\u001b[0m\n\u001b[1;32m    894\u001b[0m                 \u001b[0;31m# re-raise KeyboardInterrupt, to truncate traceback\u001b[0m\u001b[0;34m\u001b[0m\u001b[0;34m\u001b[0m\u001b[0m\n\u001b[0;32m--> 895\u001b[0;31m                 \u001b[0;32mraise\u001b[0m \u001b[0mKeyboardInterrupt\u001b[0m\u001b[0;34m(\u001b[0m\u001b[0;34m\"Interrupted by user\"\u001b[0m\u001b[0;34m)\u001b[0m \u001b[0;32mfrom\u001b[0m \u001b[0;32mNone\u001b[0m\u001b[0;34m\u001b[0m\u001b[0;34m\u001b[0m\u001b[0m\n\u001b[0m\u001b[1;32m    896\u001b[0m             \u001b[0;32mexcept\u001b[0m \u001b[0mException\u001b[0m \u001b[0;32mas\u001b[0m \u001b[0me\u001b[0m\u001b[0;34m:\u001b[0m\u001b[0;34m\u001b[0m\u001b[0;34m\u001b[0m\u001b[0m\n\u001b[1;32m    897\u001b[0m                 \u001b[0mself\u001b[0m\u001b[0;34m.\u001b[0m\u001b[0mlog\u001b[0m\u001b[0;34m.\u001b[0m\u001b[0mwarning\u001b[0m\u001b[0;34m(\u001b[0m\u001b[0;34m\"Invalid Message:\"\u001b[0m\u001b[0;34m,\u001b[0m \u001b[0mexc_info\u001b[0m\u001b[0;34m=\u001b[0m\u001b[0;32mTrue\u001b[0m\u001b[0;34m)\u001b[0m\u001b[0;34m\u001b[0m\u001b[0;34m\u001b[0m\u001b[0m\n",
            "\u001b[0;31mKeyboardInterrupt\u001b[0m: Interrupted by user"
          ]
        }
      ]
    },
    {
      "cell_type": "markdown",
      "source": [
        "#### Questão 4\n",
        "Desenvolva um programa que leia um conjunto indeterminado de temperaturas em Celsius e faça uma análise. Portanto, escreva um programa que leia temperaturas e informe a média delas. A leitura deve ser encerrada ao ser enviado o valor -273°C."
      ],
      "metadata": {
        "id": "ABv3KObGJRdR"
      }
    },
    {
      "cell_type": "code",
      "source": [
        "temperatura = 0\n",
        "lista_temperaturas = []\n",
        "soma_temperaturas = 0\n",
        "\n",
        "while temperatura != -273:\n",
        "    temperatura = float(input(\"Insira o valor da temperatura: \"))\n",
        "    if temperatura != -273:\n",
        "        lista_temperaturas.append(temperatura)\n",
        "\n",
        "for i in range(0, len(lista_temperaturas)):\n",
        "    soma_temperaturas += lista_temperaturas[i]\n",
        "\n",
        "media = soma_temperaturas / len(lista_temperaturas)\n",
        "\n",
        "print(f\"A média das temperaturas é {media}C.\")"
      ],
      "metadata": {
        "id": "85tBBj5KJRdS",
        "colab": {
          "base_uri": "https://localhost:8080/"
        },
        "outputId": "dc628f0c-c771-47df-d91c-1c8b27d9086d"
      },
      "execution_count": null,
      "outputs": [
        {
          "output_type": "stream",
          "name": "stdout",
          "text": [
            "Insira o valor da temperatura: 5\n",
            "Insira o valor da temperatura: 10\n",
            "Insira o valor da temperatura: 0\n",
            "Insira o valor da temperatura: -273\n",
            "A média das temperaturas é 5.0C.\n"
          ]
        }
      ]
    },
    {
      "cell_type": "markdown",
      "source": [
        "#### Questão 5\n",
        "Escreva um programa que calcule o fatorial de um número inteiro fornecido pela pessoa usuária. O fatorial de um número inteiro é a multiplicação desse número por todos os seus antecessores até o número 1. Por exemplo, o fatorial de 5 é 5 x 4 x 3 x 2 x 1 = 120."
      ],
      "metadata": {
        "id": "IjkbAfGcJRdS"
      }
    },
    {
      "cell_type": "code",
      "source": [
        "fatorial = 1\n",
        "num = int(input(\"Insira o número que deseja calcular o fatorial: \"))\n",
        "\n",
        "for i in range(1, num + 1):\n",
        "  fatorial = fatorial * i\n",
        "print(fatorial)"
      ],
      "metadata": {
        "id": "7RTH8o0HJRdS",
        "colab": {
          "base_uri": "https://localhost:8080/"
        },
        "outputId": "154d92f5-9e78-4be9-a1d1-9c1c76bfbf37"
      },
      "execution_count": null,
      "outputs": [
        {
          "output_type": "stream",
          "name": "stdout",
          "text": [
            "Insira o número que deseja calcular o fatorial: 5\n",
            "120\n"
          ]
        }
      ]
    },
    {
      "cell_type": "markdown",
      "source": [
        "### Momento dos projetos"
      ],
      "metadata": {
        "id": "oGNKuQjsJRdT"
      }
    },
    {
      "cell_type": "markdown",
      "source": [
        "#### Questão 6\n",
        "Escreva um programa que gere a tabuada de um número inteiro de 1 a 10, de acordo com a escolha da pessoa usuária. Como exemplo, para o número 2, a tabuada deve ser mostrada no seguinte formato:\n",
        "```\n",
        "Tabuada do 2:\n",
        "2 x 1 = 2\n",
        "2 x 2 = 4\n",
        "[...]\n",
        "2 x 10 = 20\n",
        "```"
      ],
      "metadata": {
        "id": "ODxaTUYmJRdS"
      }
    },
    {
      "cell_type": "code",
      "source": [
        "num = float(input(\"Insira o número que deseja obter a tabuada: \"))\n",
        "\n",
        "for i in range(1, 11):\n",
        "  resultado = num * i\n",
        "  print(f\"{num} x {i} = {resultado}\")\n"
      ],
      "metadata": {
        "id": "lkTlbxPIJRdS",
        "colab": {
          "base_uri": "https://localhost:8080/"
        },
        "outputId": "c20acf2b-0d94-4e59-b75b-bcccdadebce3"
      },
      "execution_count": null,
      "outputs": [
        {
          "output_type": "stream",
          "name": "stdout",
          "text": [
            "Insira o número que deseja obter a tabuada: 5\n",
            "5.0 x 1 = 5.0\n",
            "5.0 x 2 = 10.0\n",
            "5.0 x 3 = 15.0\n",
            "5.0 x 4 = 20.0\n",
            "5.0 x 5 = 25.0\n",
            "5.0 x 6 = 30.0\n",
            "5.0 x 7 = 35.0\n",
            "5.0 x 8 = 40.0\n",
            "5.0 x 9 = 45.0\n",
            "5.0 x 10 = 50.0\n"
          ]
        }
      ]
    },
    {
      "cell_type": "markdown",
      "source": [
        "#### Questão 7\n",
        "Os números primos possuem várias aplicações dentro da Ciência de Dados, por exemplo, na criptografia e segurança. Um número primo é aquele que é divisível apenas por um e por ele mesmo. Faça um programa que peça um número inteiro e determine se ele é ou não um número primo."
      ],
      "metadata": {
        "id": "LeIbnt8VJRdS"
      }
    },
    {
      "cell_type": "code",
      "source": [
        "primo = 0\n",
        "num = int(input(\"Insira o número que deseja verificar se é primo: \"))\n",
        "\n",
        "for i in range(1, num + 1):\n",
        "  resultado = num % i\n",
        "  if resultado == 0:\n",
        "    primo +=1\n",
        "\n",
        "if primo == 2:\n",
        "  print(\"Este número é primo.\")\n",
        "else:\n",
        "  print(\"Este número não é primo.\")\n"
      ],
      "metadata": {
        "id": "2rcNU7twJRdS",
        "colab": {
          "base_uri": "https://localhost:8080/"
        },
        "outputId": "428e95d7-8332-4781-976c-1ce82aeaa85c"
      },
      "execution_count": null,
      "outputs": [
        {
          "output_type": "stream",
          "name": "stdout",
          "text": [
            "Insira o número que deseja verificar se é primo: 17\n",
            "Este número é primo.\n"
          ]
        }
      ]
    },
    {
      "cell_type": "markdown",
      "source": [
        "#### Questão 8\n",
        "Vamos entender a distribuição de idades de pensionistas de uma empresa de previdência. Escreva um programa que leia as idades de uma quantidade não informada de clientes e mostre a distribuição em intervalos de [0-25], [26-50], [51-75] e [76-100]. Encerre a entrada de dados com um número negativo."
      ],
      "metadata": {
        "id": "QTwb6QaCJRdT"
      }
    },
    {
      "cell_type": "code",
      "source": [
        "faixa_idade_1 = 0\n",
        "faixa_idade_2 = 0\n",
        "faixa_idade_3 = 0\n",
        "faixa_idade_4 = 0\n",
        "idade = 0\n",
        "\n",
        "while idade >= 0:\n",
        "  idade = int(input(\"Insira a idade: \"))\n",
        "  if 0 <= idade <= 25:\n",
        "    faixa_idade_1 += 1\n",
        "  elif 26 <= idade <= 50:\n",
        "    faixa_idade_2 += 1\n",
        "  elif 51 <= idade <= 75:\n",
        "    faixa_idade_3 += 1\n",
        "  elif 76 <= idade <= 100:\n",
        "    faixa_idade_4 += 1\n",
        "\n",
        "print(f\"\"\"[0-25]: {faixa_idade_1} pessoas\n",
        "[26-50]: {faixa_idade_2} pessoas\n",
        "[51-75]: {faixa_idade_3} pessoas\n",
        "[76-100]: {faixa_idade_4} pessoas\"\"\")"
      ],
      "metadata": {
        "id": "4IAhaDmYJRdT",
        "colab": {
          "base_uri": "https://localhost:8080/"
        },
        "outputId": "8b1442a0-e12e-4c7c-9971-3bd6be59ecbe"
      },
      "execution_count": null,
      "outputs": [
        {
          "output_type": "stream",
          "name": "stdout",
          "text": [
            "Insira a idade: 2\n",
            "Insira a idade: 30\n",
            "Insira a idade: 66\n",
            "Insira a idade: 85\n",
            "Insira a idade: -2\n",
            "[0-25]: 1 pessoas\n",
            "[26-50]: 1 pessoas\n",
            "[51-75]: 1 pessoas\n",
            "[76-100]: 1 pessoas\n"
          ]
        }
      ]
    },
    {
      "cell_type": "markdown",
      "source": [
        "#### Questão 9\n",
        "Em uma eleição para gerência em uma empresa com 20 funcionários, existem quatro candidatos. Escreva um programa que calcule o vencedor da eleição. A votação ocorreu da seguinte maneira:\n",
        "- Cada funcionário votou em um dos quatro candidatos (representados pelos números 1, 2, 3 e 4).\n",
        "- Também foram contabilizados os votos nulos (representado pelo número 5) e os votos em branco (representado pelo número 6).\n",
        "\n",
        "Ao final da votação, o programa deve exibir o total de votos para cada candidato, o número de votos nulos e o número de votos em branco. Além disso, deve calcular e exibir a porcentagem de votos nulos em relação ao total de votos e a porcentagem de votos em branco em relação ao total de votos."
      ],
      "metadata": {
        "id": "soJCQVwRJRdT"
      }
    },
    {
      "cell_type": "code",
      "source": [
        "candidato_1 = 0\n",
        "candidato_2 = 0\n",
        "candidato_3 = 0\n",
        "candidato_4 = 0\n",
        "voto_branco = 0\n",
        "voto_nulo = 0\n",
        "total_votos = 20\n",
        "\n",
        "for i in range(0, total_votos):\n",
        "  while True:\n",
        "    try:\n",
        "      voto = int(input(\"Insira o seu voto: \"))\n",
        "      if 1 <= voto <= 6:\n",
        "        if voto == 1:\n",
        "            candidato_1 += 1\n",
        "        elif voto == 2:\n",
        "            candidato_2 += 1\n",
        "        elif voto == 3:\n",
        "            candidato_3 += 1\n",
        "        elif voto == 4:\n",
        "            candidato_4 += 1\n",
        "        elif voto == 5:\n",
        "            voto_nulo += 1\n",
        "        elif voto == 6:\n",
        "            voto_branco += 1\n",
        "        break\n",
        "      else:\n",
        "        print(\"Voto inválido.\")\n",
        "    except:\n",
        "      print(\"Voto inválido.\")\n",
        "\n",
        "\n",
        "print(f\"\"\"Total de votos: {total_votos} votos\n",
        "candidato 1: {candidato_1} votos. ({(candidato_1 / total_votos) * 100:.2f}%)\n",
        "candidato 2: {candidato_2} votos. ({(candidato_2 / total_votos) * 100:.2f}%)\n",
        "candidato 3: {candidato_3} votos. ({(candidato_3 / total_votos) * 100:.2f}%)\n",
        "candidato 4: {candidato_4} votos. ({(candidato_4 / total_votos) * 100:.2f}%)\n",
        "votos nulos: {voto_nulo} votos. ({(voto_nulo / total_votos) * 100:.2f}%)\n",
        "votos brancos: {voto_branco} votos. ({(voto_branco / total_votos) * 100:.2f}%)\"\"\")"
      ],
      "metadata": {
        "id": "041EFrgG-4gR",
        "colab": {
          "base_uri": "https://localhost:8080/"
        },
        "outputId": "05252ba1-916f-4a73-e66a-a362ac5e922d"
      },
      "execution_count": null,
      "outputs": [
        {
          "output_type": "stream",
          "name": "stdout",
          "text": [
            "Insira o seu voto: p\n",
            "Voto inválido.\n",
            "Insira o seu voto: 9\n",
            "Voto inválido.\n",
            "Insira o seu voto: 1\n",
            "Insira o seu voto: 2\n",
            "Insira o seu voto: 1\n",
            "Insira o seu voto: 6\n",
            "Insira o seu voto: 3\n",
            "Total de votos: 5 votos\n",
            "candidato 1: 2 votos. (40.00%)\n",
            "candidato 2: 1 votos. (20.00%)\n",
            "candidato 3: 1 votos. (20.00%)\n",
            "candidato 4: 0 votos. (0.00%)\n",
            "votos nulos: 0 votos. (0.00%)\n",
            "votos brancos: 1 votos. (20.00%)\n"
          ]
        }
      ]
    },
    {
      "cell_type": "markdown",
      "source": [
        "## Aula 5 - Estruturas de dados"
      ],
      "metadata": {
        "id": "eijHQiNU2IZ7"
      }
    },
    {
      "cell_type": "markdown",
      "source": [
        "### Aquecendo na programação"
      ],
      "metadata": {
        "id": "92F0bKtBMgd7"
      }
    },
    {
      "cell_type": "markdown",
      "source": [
        "#### Questão 1\n",
        "Faça um programa que tenha a seguinte lista contendo os valores de gastos de uma empresa de papel `[2172.54, 3701.35, 3518.09, 3456.61, 3249.38, 2840.82, 3891.45, 3075.26, 2317.64, 3219.08]`. Com esses valores, faça um programa que calcule a média de gastos. Dica, use as funções built-in [`sum()`](https://docs.python.org/3/library/functions.html#sum) e [`len()`](https://docs.python.org/3/library/functions.html#len)."
      ],
      "metadata": {
        "id": "IypX2ANuMgeC"
      }
    },
    {
      "cell_type": "code",
      "source": [
        "lista_gastos = [2172.54, 3701.35, 3518.09, 3456.61, 3249.38, 2840.82, 3891.45, 3075.26, 2317.64, 3219.08]\n",
        "print(sum(lista_gastos)/len(lista_gastos))"
      ],
      "metadata": {
        "id": "ge3LuFhLMgeD",
        "colab": {
          "base_uri": "https://localhost:8080/"
        },
        "outputId": "6e9a89db-862c-41ac-d2f2-d079f770bc30"
      },
      "execution_count": null,
      "outputs": [
        {
          "output_type": "stream",
          "name": "stdout",
          "text": [
            "3144.222\n"
          ]
        }
      ]
    },
    {
      "cell_type": "markdown",
      "source": [
        "#### Questão 2\n",
        " Com os mesmos dados da questão anterior, defina quantas compras foram acima de 3000 reais e calcule a porcentagem quanto ao total de compras."
      ],
      "metadata": {
        "id": "xrOeLhQkMgeD"
      }
    },
    {
      "cell_type": "code",
      "source": [
        "contador = 0\n",
        "for gasto in lista_gastos:\n",
        "  if gasto > 3000:\n",
        "    contador += 1\n",
        "percentagem = (contador / len(lista_gastos) * 100)\n",
        "print(percentagem)"
      ],
      "metadata": {
        "id": "Ygu5TMZyMgeD",
        "colab": {
          "base_uri": "https://localhost:8080/"
        },
        "outputId": "0d2103d8-7c7e-4e67-e855-872239e8c9cb"
      },
      "execution_count": null,
      "outputs": [
        {
          "output_type": "stream",
          "name": "stdout",
          "text": [
            "70.0\n"
          ]
        }
      ]
    },
    {
      "cell_type": "markdown",
      "source": [
        "#### Questão 3\n",
        "Faça um código que colete em uma lista 5 números inteiros quaisquer e imprima a lista. Exemplo: `[1,4,7,2,4]`."
      ],
      "metadata": {
        "id": "JgCOrE_BMgeD"
      }
    },
    {
      "cell_type": "code",
      "source": [
        "lista_num = []\n",
        "for i in range(0, 5):\n",
        "  num = int(input(\"Insira um número inteiro: \"))\n",
        "  lista_num.append(num)\n",
        "print(lista_num)"
      ],
      "metadata": {
        "id": "vtM9O1hLMgeD",
        "colab": {
          "base_uri": "https://localhost:8080/"
        },
        "outputId": "292f2f7d-77da-4921-8c88-e571a71ee4cf"
      },
      "execution_count": null,
      "outputs": [
        {
          "output_type": "stream",
          "name": "stdout",
          "text": [
            "Insira um número inteiro: 5\n",
            "Insira um número inteiro: 6\n",
            "Insira um número inteiro: 7\n",
            "Insira um número inteiro: 8\n",
            "Insira um número inteiro: 9\n",
            "[5, 6, 7, 8, 9]\n"
          ]
        }
      ]
    },
    {
      "cell_type": "markdown",
      "source": [
        "#### Questão 4\n",
        "Colete novamente 5 inteiros e imprima a lista em ordem inversa à enviada."
      ],
      "metadata": {
        "id": "p3bTp88HMgeD"
      }
    },
    {
      "cell_type": "code",
      "source": [
        "lista_num = []\n",
        "lista_inversa = []\n",
        "\n",
        "for i in range(0, 5):\n",
        "  num = int(input(\"Insira um número inteiro: \"))\n",
        "  lista_num.append(num)\n",
        "print(lista_num)\n",
        "\n",
        "for j in range(4, -1, -1):\n",
        "  lista_inversa.append(lista_num[j])\n",
        "print(lista_inversa)"
      ],
      "metadata": {
        "id": "-CGwMIyHMgeD",
        "colab": {
          "base_uri": "https://localhost:8080/"
        },
        "outputId": "f2067eca-1cae-4b09-d45b-ce3d4ca9f353"
      },
      "execution_count": null,
      "outputs": [
        {
          "output_type": "stream",
          "name": "stdout",
          "text": [
            "Insira um número inteiro: 1\n",
            "Insira um número inteiro: 2\n",
            "Insira um número inteiro: 3\n",
            "Insira um número inteiro: 4\n",
            "Insira um número inteiro: 5\n",
            "[1, 2, 3, 4, 5]\n",
            "[5, 4, 3, 2, 1]\n"
          ]
        }
      ]
    },
    {
      "cell_type": "markdown",
      "source": [
        "#### Questão 5\n",
        "Faça um programa que, ao inserir um número qualquer, criará uma lista contendo todos os números primos entre 1 e o número digitado."
      ],
      "metadata": {
        "id": "eIXd_z1lMgeD"
      }
    },
    {
      "cell_type": "code",
      "source": [
        "lista_primos = []\n",
        "\n",
        "num = int(input(\"Insira um número inteiro: \"))\n",
        "\n",
        "for i in range(2, num + 1):\n",
        "    primo = True\n",
        "\n",
        "    for j in range(2, i):\n",
        "        resto_div = i % j\n",
        "        if resto_div == 0:\n",
        "            primo = False\n",
        "\n",
        "    if primo == True:\n",
        "        lista_primos.append(i)\n",
        "\n",
        "print(lista_primos)"
      ],
      "metadata": {
        "id": "rj_6GHstMgeE",
        "colab": {
          "base_uri": "https://localhost:8080/"
        },
        "outputId": "1982566a-6dd4-47b3-e578-32297aad210d"
      },
      "execution_count": null,
      "outputs": [
        {
          "output_type": "stream",
          "name": "stdout",
          "text": [
            "Insira um número inteiro: 17\n",
            "[2, 3, 5, 7, 11, 13, 17]\n"
          ]
        }
      ]
    },
    {
      "cell_type": "markdown",
      "source": [
        "#### Questão 6\n",
        "Escreva um programa que peça uma data informando o dia, mês e ano e determine se ela é uma data válida para uma análise."
      ],
      "metadata": {
        "id": "zrbz3ENlMgeE"
      }
    },
    {
      "cell_type": "code",
      "source": [
        "dia = int(input(\"Insira o dia: \"))\n",
        "mes = int(input(\"Insira o mês: \"))\n",
        "ano = int(input(\"Insira o ano: \"))\n",
        "\n",
        "mes_31 = [1, 3, 5, 7, 8, 10, 12]\n",
        "mes_30 = [4, 6, 9, 11]\n",
        "\n",
        "if ano % 4 == 0 and (ano % 100 != 0 or (ano % 100 == 0 and ano % 400 == 0)):\n",
        "    if mes == 2:\n",
        "        if 1 <= dia <= 29:\n",
        "            print(f\"{dia}/{mes}/{ano} - Data válida\")\n",
        "        else:\n",
        "            print(\"Data inválida\")\n",
        "    elif mes in mes_31:\n",
        "        if 1 <= dia <= 31:\n",
        "            print(f\"{dia}/{mes}/{ano} - Data válida\")\n",
        "        else:\n",
        "            print(\"Data inválida\")\n",
        "    elif mes in mes_30:\n",
        "        if 1 <= dia <= 30:\n",
        "            print(f\"{dia}/{mes}/{ano} - Data válida\")\n",
        "        else:\n",
        "            print(\"Data inválida\")\n",
        "else:\n",
        "    if mes in mes_31:\n",
        "        if 1 <= dia <= 31:\n",
        "            print(f\"{dia}/{mes}/{ano} - Data válida\")\n",
        "        else:\n",
        "            print(\"Data inválida\")\n",
        "    elif mes in mes_30:\n",
        "        if 1 <= dia <= 30:\n",
        "            print(f\"{dia}/{mes}/{ano} - Data válida\")\n",
        "        else:\n",
        "            print(\"Data inválida\")"
      ],
      "metadata": {
        "id": "0eYA8UjTMgeE",
        "outputId": "7858af11-b74a-428f-9de6-4961e811e2a0",
        "colab": {
          "base_uri": "https://localhost:8080/"
        }
      },
      "execution_count": null,
      "outputs": [
        {
          "output_type": "stream",
          "name": "stdout",
          "text": [
            "Insira o dia: 5\n",
            "Insira o mês: 5\n",
            "Insira o ano: 1964\n",
            "5/5/1964 - Data válida\n"
          ]
        }
      ]
    },
    {
      "cell_type": "markdown",
      "source": [
        "### Momento dos projetos"
      ],
      "metadata": {
        "id": "ut_4VHdGMgeE"
      }
    },
    {
      "cell_type": "markdown",
      "source": [
        "#### Questão 7\n",
        "Para um estudo envolvendo o nível de multiplicação de bactérias em uma colônia, foi coletado o número de bactérias multiplicadas por dia, com base em um processo de duplicação diária e pode ser observado a seguir: `[1.2, 2.1, 3.3, 5.0, 7.8, 11.3, 16.6, 25.1, 37.8, 56.9]`. Tendo esses valores, faça um código que gere uma lista contendo o percentual de crescimento de bactérias por dia, comparando o número de bactérias em cada dia com o número de bactérias do dia anterior. Dica: para calcular o percentual de crescimento usamos a seguinte equação: `100 * (amostra_atual - amostra_passada) / (amostra_passada)`."
      ],
      "metadata": {
        "id": "G86Z0vD_MgeE"
      }
    },
    {
      "cell_type": "code",
      "source": [
        "lista_bacterias = [1.2, 2.1, 3.3, 5.0, 7.8, 11.3, 16.6, 25.1, 37.8, 56.9]\n",
        "lista_percentagem = []\n",
        "\n",
        "for posicao in range(1, len(lista_bacterias)):\n",
        "  percentagem = 100 * (lista_bacterias[posicao] - lista_bacterias[posicao - 1]) / lista_bacterias[posicao - 1]\n",
        "  lista_percentagem.append(percentagem)\n",
        "\n",
        "print(lista_percentagem)"
      ],
      "metadata": {
        "id": "PXNO_CFkMgeE",
        "colab": {
          "base_uri": "https://localhost:8080/"
        },
        "outputId": "d0ff16d1-2ed2-4571-97a9-912a4560f545"
      },
      "execution_count": null,
      "outputs": [
        {
          "output_type": "stream",
          "name": "stdout",
          "text": [
            "[75.00000000000001, 57.142857142857125, 51.51515151515153, 56.0, 44.87179487179489, 46.90265486725664, 51.20481927710843, 50.59760956175297, 50.52910052910054]\n"
          ]
        }
      ]
    },
    {
      "cell_type": "markdown",
      "source": [
        "#### Questão 8\n",
        "Para uma seleção de produtos alimentícios, precisamos separar o conjunto de IDs dados por números inteiros, sabendo que os produtos com ID par são doces e os com ID ímpar são amargos. Monte um código que colete 10 IDs. Depois, calcule e mostre a quantidade de produtos doces e amargos."
      ],
      "metadata": {
        "id": "p4nxogpnMgeE"
      }
    },
    {
      "cell_type": "code",
      "source": [
        "doces = 0\n",
        "amargos = 0\n",
        "lista_id = []\n",
        "\n",
        "for i in range(0, 10):\n",
        "  id = int(input(\"Insira o número do ID: \"))\n",
        "  lista_id.append(id)\n",
        "\n",
        "  if id % 2 == 0:\n",
        "    doces += 1\n",
        "  else:\n",
        "    amargos += 1\n",
        "\n",
        "print(f\"{doces} são doces e {amargos} são amargos\")\n"
      ],
      "metadata": {
        "id": "WqjO2SZkMgeE",
        "colab": {
          "base_uri": "https://localhost:8080/"
        },
        "outputId": "29ee45ca-e085-453a-dd5a-b509345181b4"
      },
      "execution_count": null,
      "outputs": [
        {
          "output_type": "stream",
          "name": "stdout",
          "text": [
            "Insira o número do ID: 2\n",
            "Insira o número do ID: 3\n",
            "Insira o número do ID: 4\n",
            "Insira o número do ID: 5\n",
            "Insira o número do ID: 6\n",
            "Insira o número do ID: 7\n",
            "Insira o número do ID: 8\n",
            "Insira o número do ID: 9\n",
            "Insira o número do ID: 10\n",
            "Insira o número do ID: 11\n",
            "5 são doces e 5 são amargos\n"
          ]
        }
      ]
    },
    {
      "cell_type": "markdown",
      "source": [
        "#### Questão 9\n",
        "Desenvolva um programa que informa a nota de um aluno de acordo com suas respostas. Ele deve pedir a resposta de um aluno para cada questão e é preciso verificar se a resposta foi igual ao gabarito. Cada questão vale um ponto e existem alternativas:  A, B, C ou D.\n",
        "```\n",
        "Gabarito da Prova:\n",
        "01 - D\n",
        "02 - A\n",
        "03 - C\n",
        "04 - B\n",
        "05 - A\n",
        "06 - D\n",
        "07 - C\n",
        "08 - C\n",
        "09 - A\n",
        "10 - B\n",
        "```"
      ],
      "metadata": {
        "id": "t5OrLxV6MgeE"
      }
    },
    {
      "cell_type": "code",
      "source": [
        "lista_gabarito = [\"D\", \"A\", \"C\", \"B\", \"A\", \"D\", \"C\", \"C\", \"A\", \"B\"]\n",
        "lista_aluno = []\n",
        "nota_aluno = 0\n",
        "\n",
        "for i in range (0, len(lista_gabarito)):\n",
        "  resposta_aluno = input(\"Digite a sua resposta: \").upper()\n",
        "  lista_aluno.append(resposta_aluno)\n",
        "\n",
        "for j in range (0, len(lista_gabarito)):\n",
        "  if lista_aluno[j] == lista_gabarito[j]:\n",
        "    nota_aluno += 1\n",
        "\n",
        "print(f\"A nota do aluno foi {nota_aluno}\")"
      ],
      "metadata": {
        "id": "ytIQDJrQMgeE",
        "colab": {
          "base_uri": "https://localhost:8080/"
        },
        "outputId": "9e2439ad-9c5b-410a-9f0b-537c46d0b4e3"
      },
      "execution_count": null,
      "outputs": [
        {
          "output_type": "stream",
          "name": "stdout",
          "text": [
            "Digite a sua resposta: d\n",
            "Digite a sua resposta: a\n",
            "Digite a sua resposta: c\n",
            "Digite a sua resposta: b\n",
            "Digite a sua resposta: a\n",
            "Digite a sua resposta: d\n",
            "Digite a sua resposta: c\n",
            "Digite a sua resposta: c\n",
            "Digite a sua resposta: a\n",
            "Digite a sua resposta: b\n",
            "A nota do aluno foi 10\n"
          ]
        }
      ]
    },
    {
      "cell_type": "markdown",
      "source": [
        "#### Questão 10\n",
        "Um instituto de meteorologia deseja fazer um estudo de temperatura média de cada mês do ano. Para isso, você precisa fazer um código que colete e armazene essas temperaturas médias em uma lista. Depois, calcule a média anual das temperaturas e mostre todas as temperaturas acima da média anual, e em que mês elas ocorreram, mostrando os meses por extenso: Janeiro, Fevereiro, etc."
      ],
      "metadata": {
        "id": "aSBMzh-AMgeF"
      }
    },
    {
      "cell_type": "code",
      "source": [
        "meses = [\"Janeiro\", \"Fevereiro\", \"Março\", \"Abril\", \"Maio\", \"Junho\",\n",
        "         \"Julho\", \"Agosto\", \"Setembro\", \"Outubro\", \"Novembro\", \"Dezembro\"]\n",
        "medias_temperaturas = []\n",
        "soma_temperaturas = 0\n",
        "\n",
        "for i in range (0, 12):\n",
        "    temperatura = float(input(\"Insira o valor da temperatura: \"))\n",
        "    medias_temperaturas.append(temperatura)\n",
        "    soma_temperaturas += temperatura\n",
        "\n",
        "media_anual = soma_temperaturas / 12\n",
        "print(f\"A média anual foi de {media_anual:.2f}.\")\n",
        "\n",
        "for j in range(0, 12):\n",
        "  if medias_temperaturas[j] > media_anual:\n",
        "     print(f\"O mês de {meses[j]} teve a média de {medias_temperaturas[j]}.\")"
      ],
      "metadata": {
        "id": "ftj04s2uMgeF",
        "colab": {
          "base_uri": "https://localhost:8080/"
        },
        "outputId": "918c3e8a-5f4d-4a2c-8868-68ed2b2b83ef"
      },
      "execution_count": null,
      "outputs": [
        {
          "output_type": "stream",
          "name": "stdout",
          "text": [
            "Insira o valor da temperatura: 3\n",
            "Insira o valor da temperatura: 5\n",
            "Insira o valor da temperatura: 3\n",
            "Insira o valor da temperatura: 3\n",
            "Insira o valor da temperatura: 3\n",
            "Insira o valor da temperatura: 5\n",
            "Insira o valor da temperatura: 3\n",
            "Insira o valor da temperatura: 5\n",
            "Insira o valor da temperatura: 3\n",
            "Insira o valor da temperatura: 3\n",
            "Insira o valor da temperatura: 3\n",
            "Insira o valor da temperatura: 5\n",
            "A média anual foi de 3.67.\n",
            "O mês de Fevereiro teve a média de 5.0.\n",
            "O mês de Junho teve a média de 5.0.\n",
            "O mês de Agosto teve a média de 5.0.\n",
            "O mês de Dezembro teve a média de 5.0.\n"
          ]
        }
      ]
    },
    {
      "cell_type": "markdown",
      "source": [
        "#### Questão 11\n",
        "Uma empresa de e-commerce está interessada em analisar as vendas dos seus produtos. Os dados das vendas foram armazenados em um dicionário:\n",
        "```\n",
        "{'Produto A': 300, 'Produto B': 80, 'Produto C': 60,\n",
        " 'Produto D': 200, 'Produto E': 250, 'Produto F': 30}\n",
        "```\n",
        "Escreva um código que calcule o total de vendas e o produto mais vendido."
      ],
      "metadata": {
        "id": "0X8S6s4jMgeF"
      }
    },
    {
      "cell_type": "code",
      "source": [
        "dicionario = {'Produto A': 300, 'Produto B': 80, 'Produto C': 60,\n",
        " 'Produto D': 200, 'Produto E': 250, 'Produto F': 30}\n",
        "\n",
        "soma = 0\n",
        "mais_vendido_valor = 0\n",
        "mais_vendido_chave = \"\"\n",
        "\n",
        "for chave in dicionario:\n",
        "    soma += dicionario[chave]\n",
        "\n",
        "    if dicionario[chave] > mais_vendido_valor:\n",
        "        mais_vendido_valor = dicionario[chave]\n",
        "        mais_vendido_chave = chave\n",
        "\n",
        "\n",
        "print(f\"O total de vendas é {soma}.\\nO produto mais vendido foi o {mais_vendido_chave}, com {mais_vendido_valor} unidades vendidas.\")"
      ],
      "metadata": {
        "id": "Xa3DJLtFMgeF",
        "outputId": "f410916d-abd8-4b9c-9e7c-ff6ccc8e8cd8",
        "colab": {
          "base_uri": "https://localhost:8080/"
        }
      },
      "execution_count": null,
      "outputs": [
        {
          "output_type": "stream",
          "name": "stdout",
          "text": [
            "O total de vendas é 920.\n",
            "O produto mais vendido foi o Produto A, com 300 unidades vendidas.\n"
          ]
        }
      ]
    },
    {
      "cell_type": "markdown",
      "source": [
        "#### Questão 12\n",
        "Uma pesquisa de mercado foi feita para decidir qual design de uma marca infantil mais agrada crianças. A pesquisa foi feita e o votos computados podem ser observados abaixo:\n",
        "```\n",
        "'''\n",
        "Tabela de votos da marca\n",
        "Design 1 - 1334 votos\n",
        "Design 2 - 982 votos\n",
        "Design 3 - 1751 votos\n",
        "Design 4 - 210 votos\n",
        "Design 5 - 1811 votos\n",
        "'''\n",
        "```\n",
        "Adapte os dados fornecidos a você para uma estrutura de dicionário e a partir dele, informe o design vencedor e a porcentagem de votos recebidos.\n"
      ],
      "metadata": {
        "id": "nrEwf_1ZMgeF"
      }
    },
    {
      "cell_type": "code",
      "source": [
        "dicionario_designs = {\"Design 1\": 1334,\n",
        "\"Design 2\" : 982,\n",
        "\"Design 3\" : 1751,\n",
        "\"Design 4\" : 210,\n",
        "\"Design 5\" : 1811}\n",
        "\n",
        "maior_valor = 0\n",
        "maior_chave = ''\n",
        "\n",
        "for design, votos in dicionario_designs.items():\n",
        "    if votos > maior_valor:\n",
        "        maior_valor = votos\n",
        "        maior_chave = design\n",
        "\n",
        "soma = sum(dicionario_designs.values())\n",
        "\n",
        "percentagem = (maior_valor / soma) * 100\n",
        "\n",
        "print(f\"O design vencedor foi o {maior_chave}, com {maior_valor} votos. ({percentagem:.2f}%)\")"
      ],
      "metadata": {
        "id": "MRPcGR-_MgeF",
        "outputId": "54ce3347-6663-499e-ad9f-3eb91cf9c3cc",
        "colab": {
          "base_uri": "https://localhost:8080/"
        }
      },
      "execution_count": null,
      "outputs": [
        {
          "output_type": "stream",
          "name": "stdout",
          "text": [
            "O design vencedor foi o Design 5, com 1811 votos. (29.75%)\n"
          ]
        }
      ]
    },
    {
      "cell_type": "markdown",
      "source": [
        "#### Questão 13\n",
        "Os funcionários de um setor da empresa que você trabalha vão receber um abono correspondente a 10% do seu salário devido ao ótimo desempenho do time. O setor financeiro solicitou sua ajuda para a verificação das consequências financeiras que esse abono irá gerar nos recursos. Assim, foi encaminhada para você uma lista com os salários que receberão o abono: `[1172, 1644, 2617, 5130, 5532, 6341, 6650, 7238, 7685, 7782, 7903]`. O abono de cada funcionário não pode ser inferior a 200. Em código, transforme cada um dos salários em chaves de um dicionário e o abono de cada salário no elemento. Depois, informe o total de gastos com o abono, quantos funcionários receberam o abono mínimo e qual o maior valor de abono fornecido.\n"
      ],
      "metadata": {
        "id": "HRTFFzKIMgeF"
      }
    },
    {
      "cell_type": "code",
      "source": [
        "lista_salarios = [1172, 1644, 2617, 5130, 5532, 6341, 6650, 7238, 7685, 7782, 7903]\n",
        "dicionario_abonos = {}\n",
        "abono_minimo = 0\n",
        "maior_abono = 0\n",
        "\n",
        "for salario in lista_salarios:\n",
        "    abono = round(salario * 0.10, 2)\n",
        "\n",
        "    if abono < 200:\n",
        "        abono = 200\n",
        "        abono_minimo += 1\n",
        "\n",
        "    if abono > maior_abono:\n",
        "        maior_abono = abono\n",
        "\n",
        "    dicionario_abonos[salario] = abono\n",
        "\n",
        "total_gastos = sum(dicionario_abonos.values())\n",
        "\n",
        "print(dicionario_abonos)\n",
        "\n",
        "print(f\"\"\"O total de gastos com abono é de R${total_gastos}.\n",
        "{abono_minimo} funcionários reberam o abono mínimo.\n",
        "O maior abono foi de R${maior_abono}.\"\"\")"
      ],
      "metadata": {
        "id": "QsDSCua42bLB",
        "colab": {
          "base_uri": "https://localhost:8080/"
        },
        "outputId": "f23eafce-cdf1-4c26-aa86-28a02f73ee3d"
      },
      "execution_count": 1,
      "outputs": [
        {
          "output_type": "stream",
          "name": "stdout",
          "text": [
            "{1172: 200, 1644: 200, 2617: 261.7, 5130: 513.0, 5532: 553.2, 6341: 634.1, 6650: 665.0, 7238: 723.8, 7685: 768.5, 7782: 778.2, 7903: 790.3}\n",
            "O total de gastos com abono é de R$6087.8.\n",
            "2 funcionários reberam o abono mínimo.\n",
            "O maior abono foi de R$790.3.\n"
          ]
        }
      ]
    },
    {
      "cell_type": "markdown",
      "source": [
        "#### Questão 14\n",
        "Uma equipe de cientistas de dados está estudando a diversidade biológica em uma floresta. A equipe fez a coleta de informações sobre o número de espécies de plantas e animais em cada área da floresta e armazenaram essas informações em um dicionário. Nele, a chave descreve a área dos dados e os valores nas listas correspondem às espécies de plantas e animais nas áreas, respectivamente.\n",
        "```\n",
        "{'Área Norte': [2819, 7236],\n",
        " 'Área Leste': [1440, 9492],\n",
        " 'Área Sul': [5969, 7496],\n",
        " 'Área Oeste': [14446, 49688],\n",
        " 'Área Centro': [22558, 45148]}\n",
        "```\n",
        "Escreva um código para calcular a média de espécies por área e identificar a área com a maior diversidade biológica. Dica: use as funções built-in [`sum()`](https://docs.python.org/3/library/functions.html#sum) e [`len()`](https://docs.python.org/3/library/functions.html#len).\n"
      ],
      "metadata": {
        "id": "6dEXZEwjMlWy"
      }
    },
    {
      "cell_type": "code",
      "source": [
        "dicionario_especies = {'Área Norte': [2819, 7236],\n",
        " 'Área Leste': [1440, 9492],\n",
        " 'Área Sul': [5969, 7496],\n",
        " 'Área Oeste': [14446, 49688],\n",
        " 'Área Centro': [22558, 45148]}\n",
        "\n",
        "maior_area_valor = 0\n",
        "maior_area_chave = {}\n",
        "\n",
        "for area, valor in dicionario_especies.items():\n",
        "\n",
        "    soma = sum(valor)\n",
        "    media = soma / len(valor)\n",
        "\n",
        "    if media > maior_area_valor:\n",
        "        maior_area_valor = media\n",
        "        maior_area_chave = area\n",
        "\n",
        "    print(f\"{area}: {media}\")\n",
        "\n",
        "print(f\"A área com maior diversidade biológica é a {maior_area_chave} com média de {maior_area_valor}.\")"
      ],
      "metadata": {
        "id": "eQnOUDfYMlWy",
        "colab": {
          "base_uri": "https://localhost:8080/"
        },
        "outputId": "74b95d64-9d5b-4ffc-dc39-7e7be2f619a3"
      },
      "execution_count": 3,
      "outputs": [
        {
          "output_type": "stream",
          "name": "stdout",
          "text": [
            "Área Norte: 5027.5\n",
            "Área Leste: 5466.0\n",
            "Área Sul: 6732.5\n",
            "Área Oeste: 32067.0\n",
            "Área Centro: 33853.0\n",
            "A área com maior diversidade biológica é a Área Centro com média de 33853.0.\n"
          ]
        }
      ]
    },
    {
      "cell_type": "markdown",
      "source": [
        "#### Questão 15\n",
        "O setor de RH da sua empresa te pediu uma ajuda para analisar as idades dos funcionários de 4 setores da empresa. Para isso, ele te forneceu os seguintes dados:\n",
        "```\n",
        "{'Setor A': [22, 26, 30, 30, 35, 38, 40, 56, 57, 65],\n",
        " 'Setor B': [22, 24, 26, 33, 41, 49, 50, 54, 60, 64],\n",
        " 'Setor C': [23, 26, 26, 29, 34, 35, 36, 41, 52, 56],\n",
        " 'Setor D': [19, 20, 25, 27, 34, 39, 42, 44, 50, 65]}\n",
        "```\n",
        "Sabendo que cada setor tem 10 funcionários, construa um código que calcule a média de idade de cada setor, a idade média geral entre todos os setores e quantas pessoas estão acima da idade média geral.\n"
      ],
      "metadata": {
        "id": "r0RW2Sy_MlWy"
      }
    },
    {
      "cell_type": "code",
      "source": [],
      "metadata": {
        "id": "wCiwyKP3MmTz"
      },
      "execution_count": null,
      "outputs": []
    }
  ]
}